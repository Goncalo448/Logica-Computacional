{
 "cells": [
  {
   "cell_type": "markdown",
   "id": "16df5884",
   "metadata": {},
   "source": [
    "# TP1"
   ]
  },
  {
   "cell_type": "markdown",
   "id": "cad21471",
   "metadata": {},
   "source": [
    "## Problema 2 "
   ]
  },
  {
   "cell_type": "markdown",
   "id": "639bc547",
   "metadata": {},
   "source": [
    "2. Na criptografia pós-quântica os reticulados inteiros (“hard lattices”) e os problemas a eles associados são uma componente essencial. Um reticulado inteiro pode ser definido por uma matriz $$\\;\\mathsf{L} \\in \\mathbb{Z}^{m\\times n}\\;$$ (com $\\;m > n\\;$) de inteiros e por um inteiro primo $\\;q\\geq 3\\;$.\n",
    "\n",
    "\n",
    "O chamado problema do vetor curto  (SVP) consiste  no cálculo de um vetor de inteiros $$\\;e\\in \\{-1,0,1\\}^m\\;$$ não nulo que  verifique a seguinte relação matricial $$\\forall\\,i < n\\,\\centerdot\\,$$ $$\\sum_{j<m}\\,e_j\\,\\times\\,\\mathsf{L}_{j,i}\\;\\equiv\\;0\\mod q$$\n",
    "\n"
   ]
  },
  {
   "cell_type": "markdown",
   "id": "642e5495",
   "metadata": {},
   "source": [
    "### Implementação\n",
    "Começamos por importar a biblioteca de programação linear do OR-Tools e criar uma instância do model.\n",
    "Entretanto, inicializamos o `model`."
   ]
  },
  {
   "cell_type": "code",
   "execution_count": 126,
   "id": "6b755897",
   "metadata": {},
   "outputs": [],
   "source": [
    "from ortools.sat.python import cp_model\n",
    "import random \n",
    "\n",
    "#solver = pywraplp.Solver.CreateSolver('SCIP')\n",
    "\n",
    "model = cp_model.CpModel()"
   ]
  },
  {
   "cell_type": "markdown",
   "id": "acebf573",
   "metadata": {},
   "source": [
    "Pretende-se resolver o SVP por programação inteira dentro das seguintes condições\n",
    "\n",
    "i. Os valores  $\\,m\\,,\\,n\\,,\\,q\\,$ são escolhidos com $\\,n > 30\\,$, $\\,|m| > 1 + |n|\\;$ e $\\,|q| > |m|\\,$. \n",
    "\n",
    "ii. Os elementos $\\;\\mathsf{L}_{j,i}\\;$ são gerados aleatória e uniformemente no intervalo inteiro $\\,\\{-d \\cdots d\\}$ sendo $$\\;d\\equiv (q-1)/2\\;$$"
   ]
  },
  {
   "cell_type": "code",
   "execution_count": 127,
   "id": "a7a38258",
   "metadata": {},
   "outputs": [],
   "source": [
    "q = 5\n",
    "d = 2\n",
    "n = 2\n",
    "m = 4\n",
    "\n",
    "L = {}\n",
    "for j in range(m):\n",
    "    for i in range(n):\n",
    "        L[j,i] = random.randint(-d, d+1) # retorna um inteiro dentro do limite dado (-d...d)\n",
    "        \n",
    "e = [model.NewIntVar(-1, 1, f'e[{j}]') for j in range(m)] # estamos a criar o vetor \"e\" entre os limites -1 e 1"
   ]
  },
  {
   "cell_type": "markdown",
   "id": "e138a5e5",
   "metadata": {},
   "source": [
    "$$\\forall\\,i < n\\,\\centerdot\\,$$ $$\\sum_{j<m}\\,e_j\\,\\times\\,\\mathsf{L}_{j,i}\\;\\equiv\\;0\\mod q$$"
   ]
  },
  {
   "cell_type": "code",
   "execution_count": 128,
   "id": "fb9c2f6b",
   "metadata": {},
   "outputs": [],
   "source": [
    "for i in range(n):\n",
    "    K = model.NewIntVar(0, q, f'K[{i}]')\n",
    "    model.Add(sum(e[j] *  L[j, i] for j in range(m)) == q * K)"
   ]
  },
  {
   "cell_type": "markdown",
   "id": "a78c9653",
   "metadata": {},
   "source": [
    "b. Pretende-se determinar, em primeiro lugar, se existe um vetor $\\,e\\,$ não nulo (pelo menos um dos $\\,e_j\\,$ é diferente de zero).\n",
    "\n",
    "$ \\forall_{j < m}. \\exists e_{j} \\neq 0 $"
   ]
  },
  {
   "cell_type": "code",
   "execution_count": 129,
   "id": "e39d01e9",
   "metadata": {},
   "outputs": [],
   "source": [
    "e2 = [model.NewIntVar(0, 1, f'e[{j}]') for j in range(m)]\n",
    "for j in range(m):\n",
    "    model.AddAbsEquality(e2[j], e[j])\n",
    "\n",
    "model.Add(sum(e2) > 0)\n",
    "pass"
   ]
  },
  {
   "cell_type": "markdown",
   "id": "214d3995",
   "metadata": {},
   "source": [
    " Minimizar o número de componentes não nulas, i.e., maximizar o número de componentes nulas."
   ]
  },
  {
   "cell_type": "code",
   "execution_count": 130,
   "id": "0b85538e",
   "metadata": {},
   "outputs": [
    {
     "name": "stdout",
     "output_type": "stream",
     "text": [
      "e: \n",
      "0\n",
      "0\n",
      "-1\n",
      "-1\n",
      "e2: \n",
      "0\n",
      "0\n",
      "1\n",
      "1\n"
     ]
    }
   ],
   "source": [
    "model.Minimize(sum(e2))\n",
    "\n",
    "solver = cp_model.CpSolver()\n",
    "status = solver.Solve(model)\n",
    "\n",
    "if status == cp_model.OPTIMAL or status == cp_model.FEASIBLE:\n",
    "    print(\"e: \")\n",
    "    for j in range(m):\n",
    "        print(solver.Value(e[j]))\n",
    "        \n",
    "    print(\"e2: \")\n",
    "    for j in range(m):\n",
    "        print(solver.Value(e2[j]))\n",
    "else:\n",
    "    print(\"unsat\")"
   ]
  }
 ],
 "metadata": {
  "kernelspec": {
   "display_name": "Python 3 (ipykernel)",
   "language": "python",
   "name": "python3"
  },
  "language_info": {
   "codemirror_mode": {
    "name": "ipython",
    "version": 3
   },
   "file_extension": ".py",
   "mimetype": "text/x-python",
   "name": "python",
   "nbconvert_exporter": "python",
   "pygments_lexer": "ipython3",
   "version": "3.10.4"
  }
 },
 "nbformat": 4,
 "nbformat_minor": 5
}
