{
 "cells": [
  {
   "cell_type": "markdown",
   "id": "f8c40ed6",
   "metadata": {},
   "source": [
    "# TP2\n",
    "### Problema 2"
   ]
  },
  {
   "cell_type": "markdown",
   "id": "0ca11a11",
   "metadata": {},
   "source": [
    "O Conway’s Game of Life é um exemplo bastante conhecido de um autómato celular. Neste problema vamos modificar as regras do autómato da seguinte forma:\n",
    "- O espaço de estados é finito definido por uma grelha de células booleanas (morta=0/viva=1) de dimensão $\\,N\\times N\\,$ (com $N>3$) identificadas por índices $\\,(i,j)\\in \\{1..N\\}$.  Estas $\\;N^2\\;$ células são aqui referidas como “normais”;\n",
    "<br><br>\n",
    "- Adicionalmente existem $\\,2N+1\\,$ “células da borda” que correspondem a um dos índices, $i$ ou $j$, ser zero. As células da borda têm valores constantes que, no estado inicial, são gerados aleatoriamente com uma probabilidade $\\,\\rho\\,$ de estarem vivas;\n",
    "<br><br>\n",
    "- As células normais o autómato modificam o estado de acordo com a regra “B3/S23”: i.e. a célula nasce (passa de $0$ a $1$) se tem exatamente 3 vizinhos vivos e sobrevive (mantém-se viva) se o número de vizinhos vivos é 2 ou 3, caso contrário morre ou continua morta;"
   ]
  },
  {
   "cell_type": "code",
   "execution_count": 1,
   "id": "144e7f46",
   "metadata": {},
   "outputs": [],
   "source": [
    "from pysmt.shortcuts import *\n",
    "from pysmt.typing import BOOL, INT"
   ]
  },
  {
   "cell_type": "markdown",
   "id": "67354c94",
   "metadata": {},
   "source": [
    "### Inputs\n",
    "São parâmetros do problema os parâmetros N, $\\rho$ e a posição do centro."
   ]
  },
  {
   "cell_type": "code",
   "execution_count": 15,
   "id": "2f3ccf52",
   "metadata": {},
   "outputs": [],
   "source": [
    "N = 10 #dimensão da grelha (NxN) (N > 3)\n",
    "#ro = 0.5 #probabilidade ró de estarem vivas.\n",
    "centro = (5,5) #posição do centro\n",
    "\n",
    "        "
   ]
  },
  {
   "cell_type": "code",
   "execution_count": 16,
   "id": "62585da8",
   "metadata": {},
   "outputs": [],
   "source": [
    "quadrado = [(centro[0]+1, centro[1]), (centro[0], centro[1]+1),\n",
    "           (centro[0]-1, centro[1]), (centro[0], centro[1]-1),\n",
    "           (centro[0]+1, centro[1]+1), (centro[0]-1, centro[1]-1),\n",
    "           (centro[0]+1, centro[1]-1), (centro[0]-1, centro[1]+1),\n",
    "           (centro[0], centro[1])]\n"
   ]
  },
  {
   "cell_type": "markdown",
   "id": "b6a7cb33",
   "metadata": {},
   "source": [
    "A função `declaracao` cria a i-ésima cópia das variáveis de estado, guardando-as num dicionário."
   ]
  },
  {
   "cell_type": "code",
   "execution_count": 17,
   "id": "6d76a995",
   "metadata": {},
   "outputs": [],
   "source": [
    "def declaracao(i, N):\n",
    "    state = {}\n",
    "    state['nodo'] = Symbol('nodo'+str(i), INT)\n",
    "    state['grelha'] = {}\n",
    "    for i in range(N+1):\n",
    "        for j in range(N+1):\n",
    "            state['grelha'][i,j] = Symbol(f'grelha_{i}_{j}', BOOL)\n",
    "            \n",
    "    return state"
   ]
  },
  {
   "cell_type": "markdown",
   "id": "325edd87",
   "metadata": {},
   "source": [
    "A função `inicializacao`, testa se um dado estado é um possível estado inicial do programa."
   ]
  },
  {
   "cell_type": "code",
   "execution_count": 18,
   "id": "bbd3d184",
   "metadata": {},
   "outputs": [],
   "source": [
    "def inicializacao(state, N, quadrado):\n",
    "    expr = [Equals(state['nodo'], Int(0))]\n",
    "    \n",
    "    for i in range(1, N+1):\n",
    "        for j in range(1, N+1):\n",
    "            if (i,j) not in quadrado:\n",
    "                expr.append(Iff(state['grelha'][i,j], Bool(False)))\n",
    "            else:\n",
    "                expr.append(Iff(state['grelha'][i,j], Bool(True)))\n",
    "    \n",
    "    return And(elem for elem in expr)"
   ]
  },
  {
   "cell_type": "code",
   "execution_count": 19,
   "id": "f31148f0",
   "metadata": {},
   "outputs": [],
   "source": [
    "def transforma_grelha(grelha_curr, grelha_prox, N):\n",
    "    sucessos = []\n",
    "    \n",
    "    for i in range(1, N+1):\n",
    "        for j in range(1, N+1):\n",
    "            \n",
    "            if Iff(grelha_curr[i,j], Bool(False)):\n",
    "                #vizinhos = [grelha_curr[i+x,j+y] for x in range(-1,2) for y in range(-1,2)]\n",
    "                vizinhos = []\n",
    "                for x in range(-1,2):\n",
    "                    for y in range(-1,2):\n",
    "                        if x != 0 or y != 0:\n",
    "                            if i+x > 0 and i+x < N+1 and j+y > 0 and j+y < N+1:\n",
    "                                vizinhos.append(grelha_curr[i+x,j+y])\n",
    "                                \n",
    "                #REMOVER EXCECOES\n",
    "                if vizinhos.count(Bool(True)) == 3:\n",
    "                    sucessos.append(Iff(grelha_prox[i,j], Bool(True)))\n",
    "                else:\n",
    "                    sucessos.append(Iff(grelha_prox[i,j], Bool(False)))\n",
    "                    \n",
    "            elif Iff(grelha_curr[i,j], Bool(True)):\n",
    "                #vizinhos = [grelha_curr[i+x,j+y] for x in range(-1,2) for y in range(-1,2)]\n",
    "                \n",
    "                vizinhos = []\n",
    "                for x in range(-1,2):\n",
    "                    for y in range(-1,2):\n",
    "                        if x != 0 or y != 0:\n",
    "                            if i+x > 0 and i+x < N+1 and j+y > 0 and j+y < N+1:\n",
    "                                vizinhos.append(grelha_curr[i+x,j+y])\n",
    "                \n",
    "                if vizinhos.count(Bool(True)) >= 2:\n",
    "                    sucessos.append(Iff(grelha_prox[i,j], Bool(True)))\n",
    "                else:\n",
    "                    sucessos.append(Iff(grelha_prox[i,j], Bool(False)))\n",
    "                    \n",
    "    return And(sucessos[i] for i in range(len(sucessos)))"
   ]
  },
  {
   "cell_type": "code",
   "execution_count": 20,
   "id": "80597afa",
   "metadata": {},
   "outputs": [],
   "source": [
    "def transicao(curr, prox, N):\n",
    "    \n",
    "    c1 = And(Equals(curr['nodo']+1, prox['nodo']),\n",
    "             transforma_grelha(curr['grelha'], prox['grelha'], N))\n",
    "    \n",
    "    return c1"
   ]
  },
  {
   "cell_type": "code",
   "execution_count": 22,
   "id": "aa64802b",
   "metadata": {},
   "outputs": [
    {
     "name": "stdout",
     "output_type": "stream",
     "text": [
      "Não encontrou solução\n"
     ]
    }
   ],
   "source": [
    "def gera_traco(declaracao, inicializacao, transicao, k, N, quadrado):\n",
    "\n",
    "    with Solver(name = \"z3\") as solver:\n",
    "        # definir o traço de estados(arestas)\n",
    "        traco = [declaracao(i, N) for i in range(k)]\n",
    "        \n",
    "        # adicionar o estado inicial\n",
    "        solver.add_assertion(inicializacao(traco[0], N, quadrado))\n",
    "        \n",
    "        # adicionar a função de transição\n",
    "        for i in range(k-1):\n",
    "            solver.add_assertion(transicao(traco[i], traco[i+1], N)) # condição ; # tem de ser verdadeira consoante o nosso estado atual e o seguinte\n",
    "        \n",
    "        \n",
    "        '''if solver.solve():\n",
    "            m = solver.get_model()'''\n",
    "        if solver.solve():\n",
    "            for i in range(k):\n",
    "                print(\"Passo: \", i)\n",
    "                for v in traco[i]:\n",
    "                    print(v, \"=\", solver.get_value(traco[i][v]))\n",
    "                print(\"-------------\")\n",
    "\n",
    "        else:\n",
    "            print(\"Não encontrou solução\")\n",
    "        pass\n",
    "    # completar\n",
    "    \n",
    "  \n",
    "                \n",
    "gera_traco(declaracao,inicializacao,transicao,10,N,quadrado)"
   ]
  },
  {
   "cell_type": "code",
   "execution_count": null,
   "id": "d1289472",
   "metadata": {},
   "outputs": [],
   "source": []
  }
 ],
 "metadata": {
  "kernelspec": {
   "display_name": "Python 3 (ipykernel)",
   "language": "python",
   "name": "python3"
  },
  "language_info": {
   "codemirror_mode": {
    "name": "ipython",
    "version": 3
   },
   "file_extension": ".py",
   "mimetype": "text/x-python",
   "name": "python",
   "nbconvert_exporter": "python",
   "pygments_lexer": "ipython3",
   "version": "3.10.4"
  }
 },
 "nbformat": 4,
 "nbformat_minor": 5
}
