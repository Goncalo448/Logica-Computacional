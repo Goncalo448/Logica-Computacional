{
 "cells": [
  {
   "cell_type": "markdown",
   "id": "f8c40ed6",
   "metadata": {},
   "source": [
    "# TP2\n",
    "### Problema 2"
   ]
  },
  {
   "cell_type": "markdown",
   "id": "0ca11a11",
   "metadata": {},
   "source": [
    "O Conway’s Game of Life é um exemplo bastante conhecido de um autómato celular. Neste problema vamos modificar as regras do autómato da seguinte forma:\n",
    "- O espaço de estados é finito definido por uma grelha de células booleanas (morta=0/viva=1) de dimensão $\\,N\\times N\\,$ (com $N>3$) identificadas por índices $\\,(i,j)\\in \\{1..N\\}$.  Estas $\\;N^2\\;$ células são aqui referidas como “normais”;\n",
    "<br><br>\n",
    "- Adicionalmente existem $\\,2N+1\\,$ “células da borda” que correspondem a um dos índices, $i$ ou $j$, ser zero. As células da borda têm valores constantes que, no estado inicial, são gerados aleatoriamente com uma probabilidade $\\,\\rho\\,$ de estarem vivas;\n",
    "<br><br>\n",
    "- As células normais o autómato modificam o estado de acordo com a regra “B3/S23”: i.e. a célula nasce (passa de $0$ a $1$) se tem exatamente 3 vizinhos vivos e sobrevive (mantém-se viva) se o número de vizinhos vivos é 2 ou 3, caso contrário morre ou continua morta;"
   ]
  },
  {
   "cell_type": "code",
   "execution_count": 13,
   "id": "144e7f46",
   "metadata": {},
   "outputs": [],
   "source": [
    "from pysmt.shortcuts import *\n",
    "from pysmt.typing import BOOL, INT"
   ]
  },
  {
   "cell_type": "markdown",
   "id": "67354c94",
   "metadata": {},
   "source": [
    "### Inputs\n",
    "São parâmetros do problema os parâmetros N, $\\rho$ e a posição do centro."
   ]
  },
  {
   "cell_type": "code",
   "execution_count": 14,
   "id": "2f3ccf52",
   "metadata": {},
   "outputs": [],
   "source": [
    "N = 10 #dimensão da grelha (NxN) (N > 3)\n",
    "#ro = 0.5 #probabilidade ró de estarem vivas.\n",
    "centro = (5,5) #posição do centro\n",
    "\n",
    "        "
   ]
  },
  {
   "cell_type": "code",
   "execution_count": 15,
   "id": "62585da8",
   "metadata": {},
   "outputs": [
    {
     "data": {
      "text/plain": [
       "'A = {}\\nfor i in range(1,N+1):\\n    for j in range(1,N+1):\\n        if (i,j) in quadrado:\\n            A[i,j] = Symbol(str(i)+str(j), BOOL)'"
      ]
     },
     "execution_count": 15,
     "metadata": {},
     "output_type": "execute_result"
    }
   ],
   "source": [
    "quadrado = [(centro[0]+1, centro[1]), (centro[0], centro[1]+1),\n",
    "           (centro[0]-1, centro[1]), (centro[0], centro[1]-1),\n",
    "           (centro[0]+1, centro[1]+1), (centro[0]-1, centro[1]-1),\n",
    "           (centro[0]+1, centro[1]-1), (centro[0]-1, centro[1]+1),\n",
    "           (centro[0], centro[1])]\n",
    "'''A = {}\n",
    "for i in range(1,N+1):\n",
    "    for j in range(1,N+1):\n",
    "        if (i,j) in quadrado:\n",
    "            A[i,j] = Symbol(str(i)+str(j), BOOL)'''"
   ]
  },
  {
   "cell_type": "markdown",
   "id": "b6a7cb33",
   "metadata": {},
   "source": [
    "A função `declaracao` cria a i-ésima cópia das variáveis de estado, guardando-as num dicionário."
   ]
  },
  {
   "cell_type": "code",
   "execution_count": 16,
   "id": "6d76a995",
   "metadata": {},
   "outputs": [],
   "source": [
    "def declaracao(i, N):\n",
    "    state = {}\n",
    "    state['nodo'] = Symbol('nodo'+str(i), INT)\n",
    "    state['grelha'] = {}\n",
    "    for i in range(N+1):\n",
    "        for j in range(N+1):\n",
    "            state['grelha'][i,j] = Symbol('grelha_'+str(i)+'_'+str(j), BOOL)\n",
    "            \n",
    "    return state"
   ]
  },
  {
   "cell_type": "markdown",
   "id": "325edd87",
   "metadata": {},
   "source": [
    "A função `inicializacao`, testa se um dado estado é um possível estado inicial do programa."
   ]
  },
  {
   "cell_type": "code",
   "execution_count": 29,
   "id": "bbd3d184",
   "metadata": {},
   "outputs": [],
   "source": [
    "def inicializacao(state, N, quadrado):\n",
    "    expr = [Equals(state['nodo'], Int(0))]\n",
    "    \n",
    "    for i in range(1, N+1):\n",
    "        for j in range(1, N+1):\n",
    "            if (i,j) not in quadrado:\n",
    "                expr.append(Iff(state['grelha'][i,j], Bool(False)))\n",
    "            else:\n",
    "                expr.append(Iff(state['grelha'][i,j], Bool(True)))\n",
    "    \n",
    "    return And(elem for elem in expr)"
   ]
  },
  {
   "cell_type": "code",
   "execution_count": 40,
   "id": "f31148f0",
   "metadata": {},
   "outputs": [],
   "source": [
    "def transforma_grelha(grelha_curr, grelha_prox, N):\n",
    "    sucessos = []\n",
    "    excecoes = [0,N+1]\n",
    "    \n",
    "    for i in range(1, N+1):\n",
    "        for j in range(1, N+1):\n",
    "            \n",
    "            if Iff(grelha_curr[i,j], Bool(False)):\n",
    "                vizinhos = [grelha_curr[i+x,j+y] for x in range(-1,2) for y in range(-1,2)]\n",
    "                #REMOVER EXCECOES\n",
    "                if vizinhos.count(Bool(True)) == 3:\n",
    "                    sucessos.append(Iff(grelha_prox[i,j], Bool(True)))\n",
    "                else:\n",
    "                    sucessos.append(Iff(grelha_prox[i,j], Bool(False)))\n",
    "                    \n",
    "            elif Iff(grelha_curr[i,j], Bool(True)):\n",
    "                vizinhos = [grelha_curr[i+x,j+y] for x in range(-1,2) for y in range(-1,2)]\n",
    "                \n",
    "                if vizinhos.count(Bool(True)) >= 2:\n",
    "                    sucessos.append(Iff(grelha_prox[i,j], Bool(True)))\n",
    "                else:\n",
    "                    sucessos.append(Iff(grelha_prox[i,j], Bool(False)))\n",
    "                    \n",
    "    return And(sucessos[i] for i in range(len(sucessos)))"
   ]
  },
  {
   "cell_type": "code",
   "execution_count": 31,
   "id": "80597afa",
   "metadata": {},
   "outputs": [],
   "source": [
    "def transicao(curr, prox, N):\n",
    "    \n",
    "    c1 = And(Equals(curr['nodo']+1, prox['nodo']),\n",
    "             transforma_grelha(curr['grelha'], prox['grelha'], N))\n",
    "    \n",
    "    return c1"
   ]
  },
  {
   "cell_type": "code",
   "execution_count": 39,
   "id": "aa64802b",
   "metadata": {},
   "outputs": [
    {
     "ename": "NameError",
     "evalue": "name 'x' is not defined",
     "output_type": "error",
     "traceback": [
      "\u001b[0;31m---------------------------------------------------------------------------\u001b[0m",
      "\u001b[0;31mNameError\u001b[0m                                 Traceback (most recent call last)",
      "Input \u001b[0;32mIn [39]\u001b[0m, in \u001b[0;36m<cell line: 33>\u001b[0;34m()\u001b[0m\n\u001b[1;32m     28\u001b[0m         \u001b[38;5;28;01mpass\u001b[39;00m\n\u001b[1;32m     29\u001b[0m     \u001b[38;5;66;03m# completar\u001b[39;00m\n\u001b[0;32m---> 33\u001b[0m \u001b[43mgera_traco\u001b[49m\u001b[43m(\u001b[49m\u001b[43mdeclaracao\u001b[49m\u001b[43m,\u001b[49m\u001b[43minicializacao\u001b[49m\u001b[43m,\u001b[49m\u001b[43mtransicao\u001b[49m\u001b[43m,\u001b[49m\u001b[38;5;241;43m10\u001b[39;49m\u001b[43m,\u001b[49m\u001b[43mN\u001b[49m\u001b[43m,\u001b[49m\u001b[43mquadrado\u001b[49m\u001b[43m)\u001b[49m\n",
      "Input \u001b[0;32mIn [39]\u001b[0m, in \u001b[0;36mgera_traco\u001b[0;34m(declaracao, inicializacao, transicao, k, N, quadrado)\u001b[0m\n\u001b[1;32m     10\u001b[0m \u001b[38;5;66;03m# adicionar a função de transição\u001b[39;00m\n\u001b[1;32m     11\u001b[0m \u001b[38;5;28;01mfor\u001b[39;00m i \u001b[38;5;129;01min\u001b[39;00m \u001b[38;5;28mrange\u001b[39m(k\u001b[38;5;241m-\u001b[39m\u001b[38;5;241m1\u001b[39m):\n\u001b[0;32m---> 12\u001b[0m     solver\u001b[38;5;241m.\u001b[39madd_assertion(\u001b[43mtransicao\u001b[49m\u001b[43m(\u001b[49m\u001b[43mtraco\u001b[49m\u001b[43m[\u001b[49m\u001b[43mi\u001b[49m\u001b[43m]\u001b[49m\u001b[43m,\u001b[49m\u001b[43m \u001b[49m\u001b[43mtraco\u001b[49m\u001b[43m[\u001b[49m\u001b[43mi\u001b[49m\u001b[38;5;241;43m+\u001b[39;49m\u001b[38;5;241;43m1\u001b[39;49m\u001b[43m]\u001b[49m\u001b[43m,\u001b[49m\u001b[43m \u001b[49m\u001b[43mN\u001b[49m\u001b[43m)\u001b[49m) \u001b[38;5;66;03m# condição ; # tem de ser verdadeira consoante o nosso estado atual e o seguinte\u001b[39;00m\n\u001b[1;32m     14\u001b[0m \u001b[38;5;124;03m\"\"\"\u001b[39;00m\n\u001b[1;32m     15\u001b[0m \u001b[38;5;124;03mif s.solve():\u001b[39;00m\n\u001b[1;32m     16\u001b[0m \u001b[38;5;124;03m    m = s.get_model()\u001b[39;00m\n\u001b[1;32m     17\u001b[0m \u001b[38;5;124;03m    for n, v in m:\u001b[39;00m\n\u001b[1;32m     18\u001b[0m \u001b[38;5;124;03m        print(f'{n} = {v}')\u001b[39;00m\n\u001b[1;32m     19\u001b[0m \u001b[38;5;124;03m\"\"\"\u001b[39;00m\n\u001b[1;32m     21\u001b[0m \u001b[38;5;28;01mfor\u001b[39;00m i \u001b[38;5;129;01min\u001b[39;00m \u001b[38;5;28mrange\u001b[39m(k):\n",
      "Input \u001b[0;32mIn [31]\u001b[0m, in \u001b[0;36mtransicao\u001b[0;34m(curr, prox, N)\u001b[0m\n\u001b[1;32m      1\u001b[0m \u001b[38;5;28;01mdef\u001b[39;00m \u001b[38;5;21mtransicao\u001b[39m(curr, prox, N):\n\u001b[1;32m      3\u001b[0m     c1 \u001b[38;5;241m=\u001b[39m And(Equals(curr[\u001b[38;5;124m'\u001b[39m\u001b[38;5;124mnodo\u001b[39m\u001b[38;5;124m'\u001b[39m]\u001b[38;5;241m+\u001b[39m\u001b[38;5;241m1\u001b[39m, prox[\u001b[38;5;124m'\u001b[39m\u001b[38;5;124mnodo\u001b[39m\u001b[38;5;124m'\u001b[39m]),\n\u001b[0;32m----> 4\u001b[0m              \u001b[43mtransforma_grelha\u001b[49m\u001b[43m(\u001b[49m\u001b[43mcurr\u001b[49m\u001b[43m[\u001b[49m\u001b[38;5;124;43m'\u001b[39;49m\u001b[38;5;124;43mgrelha\u001b[39;49m\u001b[38;5;124;43m'\u001b[39;49m\u001b[43m]\u001b[49m\u001b[43m,\u001b[49m\u001b[43m \u001b[49m\u001b[43mprox\u001b[49m\u001b[43m[\u001b[49m\u001b[38;5;124;43m'\u001b[39;49m\u001b[38;5;124;43mgrelha\u001b[39;49m\u001b[38;5;124;43m'\u001b[39;49m\u001b[43m]\u001b[49m\u001b[43m,\u001b[49m\u001b[43m \u001b[49m\u001b[43mN\u001b[49m\u001b[43m)\u001b[49m)\n\u001b[1;32m      6\u001b[0m     \u001b[38;5;28;01mreturn\u001b[39;00m c1\n",
      "Input \u001b[0;32mIn [38]\u001b[0m, in \u001b[0;36mtransforma_grelha\u001b[0;34m(grelha_curr, grelha_prox, N)\u001b[0m\n\u001b[1;32m      6\u001b[0m \u001b[38;5;28;01mfor\u001b[39;00m j \u001b[38;5;129;01min\u001b[39;00m \u001b[38;5;28mrange\u001b[39m(\u001b[38;5;241m1\u001b[39m, N\u001b[38;5;241m+\u001b[39m\u001b[38;5;241m1\u001b[39m):\n\u001b[1;32m      8\u001b[0m     \u001b[38;5;28;01mif\u001b[39;00m Iff(grelha_curr[i,j], Bool(\u001b[38;5;28;01mFalse\u001b[39;00m)):\n\u001b[0;32m----> 9\u001b[0m         vizinhos \u001b[38;5;241m=\u001b[39m [grelha_curr[i\u001b[38;5;241m+\u001b[39mx,j\u001b[38;5;241m+\u001b[39my] \u001b[38;5;28;01mfor\u001b[39;00m x \u001b[38;5;129;01min\u001b[39;00m \u001b[38;5;28mrange\u001b[39m(\u001b[38;5;241m-\u001b[39m\u001b[38;5;241m1\u001b[39m,\u001b[38;5;241m2\u001b[39m) \u001b[38;5;129;01mand\u001b[39;00m \u001b[43mx\u001b[49m \u001b[38;5;129;01mnot\u001b[39;00m \u001b[38;5;129;01min\u001b[39;00m excecoes\n\u001b[1;32m     10\u001b[0m                                          \u001b[38;5;28;01mfor\u001b[39;00m y \u001b[38;5;129;01min\u001b[39;00m \u001b[38;5;28mrange\u001b[39m(\u001b[38;5;241m-\u001b[39m\u001b[38;5;241m1\u001b[39m,\u001b[38;5;241m2\u001b[39m) \u001b[38;5;129;01mand\u001b[39;00m y \u001b[38;5;129;01mnot\u001b[39;00m \u001b[38;5;129;01min\u001b[39;00m excecoes]\n\u001b[1;32m     12\u001b[0m         \u001b[38;5;28;01mif\u001b[39;00m vizinhos\u001b[38;5;241m.\u001b[39mcount(Bool(\u001b[38;5;28;01mTrue\u001b[39;00m)) \u001b[38;5;241m==\u001b[39m \u001b[38;5;241m3\u001b[39m:\n\u001b[1;32m     13\u001b[0m             sucessos\u001b[38;5;241m.\u001b[39mappend(Iff(grelha_prox[i,j], Bool(\u001b[38;5;28;01mTrue\u001b[39;00m)))\n",
      "\u001b[0;31mNameError\u001b[0m: name 'x' is not defined"
     ]
    }
   ],
   "source": [
    "def gera_traco(declaracao, inicializacao, transicao, k, N, quadrado):\n",
    "\n",
    "    with Solver(name = \"z3\") as solver:\n",
    "        # definir o traço de estados(arestas)\n",
    "        traco = [declaracao(i, N) for i in range(k)]\n",
    "        \n",
    "        # adicionar o estado inicial\n",
    "        solver.add_assertion(inicializacao(traco[0], N, quadrado))\n",
    "        \n",
    "        # adicionar a função de transição\n",
    "        for i in range(k-1):\n",
    "            solver.add_assertion(transicao(traco[i], traco[i+1], N)) # condição ; # tem de ser verdadeira consoante o nosso estado atual e o seguinte\n",
    "        \n",
    "        \"\"\"\n",
    "        if s.solve():\n",
    "            m = s.get_model()\n",
    "            for n, v in m:\n",
    "                print(f'{n} = {v}')\n",
    "        \"\"\"\n",
    "        \n",
    "        for i in range(k):\n",
    "            print(\"Passo: \", i)\n",
    "            for v in trace[i]:\n",
    "                print(v, \"=\", solver.get_value(trace[i][v]))\n",
    "            print(\"-------------\")\n",
    "        \n",
    "        \n",
    "        pass\n",
    "    # completar\n",
    "    \n",
    "  \n",
    "                \n",
    "gera_traco(declaracao,inicializacao,transicao,10,N,quadrado)"
   ]
  }
 ],
 "metadata": {
  "kernelspec": {
   "display_name": "Python 3 (ipykernel)",
   "language": "python",
   "name": "python3"
  },
  "language_info": {
   "codemirror_mode": {
    "name": "ipython",
    "version": 3
   },
   "file_extension": ".py",
   "mimetype": "text/x-python",
   "name": "python",
   "nbconvert_exporter": "python",
   "pygments_lexer": "ipython3",
   "version": "3.10.4"
  }
 },
 "nbformat": 4,
 "nbformat_minor": 5
}
