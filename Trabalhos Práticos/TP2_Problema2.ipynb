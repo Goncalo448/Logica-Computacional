{
 "cells": [
  {
   "cell_type": "markdown",
   "id": "f8c40ed6",
   "metadata": {},
   "source": [
    "# TP2\n",
    "### Problema 2"
   ]
  },
  {
   "cell_type": "markdown",
   "id": "0ca11a11",
   "metadata": {},
   "source": [
    "O Conway’s Game of Life é um exemplo bastante conhecido de um autómato celular. Neste problema vamos modificar as regras do autómato da seguinte forma:\n",
    "- O espaço de estados é finito definido por uma grelha de células booleanas (morta=0/viva=1) de dimensão $\\,N\\times N\\,$ (com $N>3$) identificadas por índices $\\,(i,j)\\in \\{1..N\\}$.  Estas $\\;N^2\\;$ células são aqui referidas como “normais”;\n",
    "<br><br>\n",
    "- Adicionalmente existem $\\,2N+1\\,$ “células da borda” que correspondem a um dos índices, $i$ ou $j$, ser zero. As células da borda têm valores constantes que, no estado inicial, são gerados aleatoriamente com uma probabilidade $\\,\\rho\\,$ de estarem vivas;\n",
    "<br><br>\n",
    "- As células normais o autómato modificam o estado de acordo com a regra “B3/S23”: i.e. a célula nasce (passa de $0$ a $1$) se tem exatamente 3 vizinhos vivos e sobrevive (mantém-se viva) se o número de vizinhos vivos é 2 ou 3, caso contrário morre ou continua morta;"
   ]
  },
  {
   "cell_type": "code",
   "execution_count": 5,
   "id": "144e7f46",
   "metadata": {},
   "outputs": [],
   "source": [
    "from pysmt.shortcuts import *\n",
    "from pysmt.typing import BOOL"
   ]
  },
  {
   "cell_type": "markdown",
   "id": "67354c94",
   "metadata": {},
   "source": [
    "### Inputs\n",
    "São parâmetros do problema os parâmetros N, $\\rho$ e a posição do centro."
   ]
  },
  {
   "cell_type": "code",
   "execution_count": 7,
   "id": "2f3ccf52",
   "metadata": {},
   "outputs": [],
   "source": [
    "N = 10 #dimensão da grelha (NxN) (N > 3)\n",
    "#ro = 0.5 #probabilidade ró de estarem vivas.\n",
    "centro = (5,5) #posição do centro\n",
    "\n",
    "        "
   ]
  },
  {
   "cell_type": "code",
   "execution_count": 11,
   "id": "62585da8",
   "metadata": {},
   "outputs": [],
   "source": [
    "quadrado = [(centro[0]+1, centro[1]), (centro[0], centro[1]+1),\n",
    "           (centro[0]-1, centro[1]), (centro[0], centro[1]-1),\n",
    "           (centro[0]+1, centro[1]+1), (centro[0]-1, centro[1]-1),\n",
    "           (centro[0]+1, centro[1]-1), (centro[0]-1, centro[1]+1)]\n",
    "A = {}\n",
    "for i in range(1,N+1):\n",
    "    for j in range(1,N+1):\n",
    "        if (i,j) in quadrado:\n",
    "            A[i,j] = Symbol(str(i)+str(j), BOOL)"
   ]
  }
 ],
 "metadata": {
  "kernelspec": {
   "display_name": "Python 3 (ipykernel)",
   "language": "python",
   "name": "python3"
  },
  "language_info": {
   "codemirror_mode": {
    "name": "ipython",
    "version": 3
   },
   "file_extension": ".py",
   "mimetype": "text/x-python",
   "name": "python",
   "nbconvert_exporter": "python",
   "pygments_lexer": "ipython3",
   "version": "3.10.4"
  }
 },
 "nbformat": 4,
 "nbformat_minor": 5
}
