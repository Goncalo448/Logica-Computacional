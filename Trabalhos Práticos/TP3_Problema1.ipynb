{
 "cells": [
  {
   "cell_type": "markdown",
   "id": "a2a8ab26",
   "metadata": {},
   "source": [
    "# TP3\n",
    "### Problema 1 "
   ]
  },
  {
   "cell_type": "markdown",
   "id": "88bfd2cc",
   "metadata": {},
   "source": [
    "\n",
    "Pretende-se construir uma implementação simplificada do algoritmo “model checking” orientado aos interpolantes seguindo a estrutura apresentada nos apontamentos onde no passo $(n,m)\\,$ na impossibilidade de encontrar um interpolante invariante se dá ao utilizador a possibilidade de incrementar um dos índices $n$ e $m$ à sua escolha.\n",
    "    \n",
    "Pretende-se aplicar este algoritmo ao problema da da multiplicação de inteiros positivos usando Inteiros  (apresentado no TP2).\n"
   ]
  },
  {
   "cell_type": "markdown",
   "id": "2d232d3a",
   "metadata": {},
   "source": [
    "### Implementação\n",
    "Comecemos por importar a biblioteca `pysmt.shortcuts` que disponibiliza funcionalidades para a utilização de um SMT solver, assim como, a biblioteca `pysmt.typing` de onde temos que importar o tipo `INT`."
   ]
  },
  {
   "cell_type": "code",
   "execution_count": 4,
   "id": "975174be",
   "metadata": {},
   "outputs": [],
   "source": [
    "from pysmt.shortcuts import *\n",
    "from pysmt.typing import INT\n",
    "\n",
    "import itertools "
   ]
  },
  {
   "cell_type": "markdown",
   "id": "ebeef024",
   "metadata": {},
   "source": [
    "Para modelar este programa como um SFOTS teremos o conjunto $\\mathsf{X}$ de variáveis do estado dado pela lista `['pc', 'x', 'y', 'z']`, e definimos a função\n",
    "`genState` que recebe a lista com o nome das variáveis do estado, uma etiqueta e um inteiro, e cria a i-ésima cópia das variáveis do estado para essa etiqueta."
   ]
  },
  {
   "cell_type": "code",
   "execution_count": 5,
   "id": "417a79a0",
   "metadata": {},
   "outputs": [],
   "source": [
    "# declaração das variáveis \n",
    "def genState(vars,s,i):\n",
    "    state = {}\n",
    "    for v in vars:\n",
    "        state[v] = Symbol(v+'!'+s+str(i),INT)\n",
    "    return state"
   ]
  },
  {
   "cell_type": "markdown",
   "id": "8ede8f24",
   "metadata": {},
   "source": [
    "A função `inicializacao` testa se um dado estado cumpre a condição para ser estado inicial."
   ]
  },
  {
   "cell_type": "code",
   "execution_count": 6,
   "id": "2fdc9f32",
   "metadata": {},
   "outputs": [],
   "source": [
    "def inicializacao(state, a, b):\n",
    "    return And(Equals(state['nodo'], Int(0)), \n",
    "               Equals(state['z'], Int(0)),\n",
    "               Equals(state['x'], Int(a)),\n",
    "               Equals(state['y'], Int(b)))"
   ]
  },
  {
   "cell_type": "markdown",
   "id": "28c59f48",
   "metadata": {},
   "source": [
    "De seguida, definimos as funções `odd` e `even` que verificam se um dado número passado como argumento é ímpar ou par, respetivamente. Definimos também as funções `overflow1` e `overflow2` que verificam se um dado estado do programa não respeita a restrição relativa ao número máximo de bits que uma variável pode tomar."
   ]
  },
  {
   "cell_type": "code",
   "execution_count": 7,
   "id": "b7ea7fc8",
   "metadata": {},
   "outputs": [],
   "source": [
    "# alterar - nao usar bitvec\n",
    "def odd(curr):\n",
    "    return NotEquals(Times(Div(curr['y'], Int(2)), Int(2)), curr['y'])\n",
    "    \n",
    "\n",
    "def even(curr):\n",
    "    return Equals(Times(Div(curr['y'], Int(2)), Int(2)), curr['y'])\n",
    "    \n",
    "\n",
    "# estados de erro \n",
    "# n é o inteiro máximo que pode atingir \n",
    "def overflow1(curr, n):\n",
    "    return GT(Times(curr['x'], Int(2)), Int(n))\n",
    "\n",
    "\n",
    "def overflow2(curr, n):\n",
    "    return GT(Plus(curr['z'], curr['x']), Int(n))"
   ]
  },
  {
   "cell_type": "markdown",
   "id": "feabf69d",
   "metadata": {},
   "source": [
    "A função `error` testa se um dado estado é um possível estado de erro do programa."
   ]
  },
  {
   "cell_type": "code",
   "execution_count": 8,
   "id": "618bbe51",
   "metadata": {},
   "outputs": [],
   "source": [
    "def error(state):\n",
    "    return Or(Equals(state['nodo'], Int(3)), Equals(state['nodo'], Int(5)))"
   ]
  },
  {
   "cell_type": "markdown",
   "id": "64cd3eb4",
   "metadata": {},
   "source": [
    "Dados dois estados, a função `transicao` testa se é possível transitar do primeiro estado para o segundo estado."
   ]
  },
  {
   "cell_type": "code",
   "execution_count": 9,
   "id": "04881549",
   "metadata": {},
   "outputs": [],
   "source": [
    "def transicao(curr, prox, n):\n",
    "    c1 = And(\n",
    "            Equals(curr['nodo'], Int(0)),\n",
    "            NotEquals(curr['y'], Int(0)),\n",
    "            even(curr),\n",
    "            Equals(prox['nodo'], Int(1)),\n",
    "            Equals(prox['x'], curr['x']),\n",
    "            Equals(prox['y'], curr['y']),\n",
    "            Equals(prox['z'], curr['z']))\n",
    "    \n",
    "    c2 = And(\n",
    "            Equals(curr['nodo'], Int(0)),\n",
    "            NotEquals(curr['y'], Int(0)),\n",
    "            odd(curr),\n",
    "            Equals(prox['nodo'], Int(2)),\n",
    "            Equals(prox['x'], curr['x']),\n",
    "            Equals(prox['y'], curr['y']),\n",
    "            Equals(prox['z'], curr['z']))\n",
    "    \n",
    "    c3 = And(\n",
    "            Equals(curr['nodo'], Int(0)),\n",
    "            Equals(curr['y'], Int(0)),\n",
    "            Equals(prox['nodo'], Int(4)),\n",
    "            Equals(prox['x'], curr['x']),\n",
    "            Equals(prox['y'], curr['y']),\n",
    "            Equals(prox['z'], curr['z']))\n",
    "    \n",
    "    c4 = And(\n",
    "            Equals(curr['nodo'], Int(1)),\n",
    "            Equals(prox['nodo'], Int(0)),\n",
    "            Not(overflow1(curr, n)),\n",
    "            Equals(prox['x'], Times(curr['x'], Int(2))),\n",
    "            Equals(prox['y'], Div(curr['y'], Int(2))),\n",
    "            Equals(prox['z'], curr['z']))\n",
    "    \n",
    "    c5 = And(\n",
    "            Equals(curr['nodo'], Int(1)),\n",
    "            Equals(prox['nodo'], Int(3)),\n",
    "            overflow1(curr, n),\n",
    "            Equals(prox['x'], curr['x']),\n",
    "            Equals(prox['y'], curr['y']),\n",
    "            Equals(prox['z'], curr['z']))\n",
    "    \n",
    "    c6 = And(\n",
    "            Equals(curr['nodo'], Int(2)),\n",
    "            Equals(prox['nodo'], Int(0)),\n",
    "            Not(overflow2(curr, n)),\n",
    "            Equals(prox['z'], Plus(curr['z'], curr['x'])),\n",
    "            Equals(prox['y'], Minus(curr['y'], Int(1))),\n",
    "            Equals(prox['x'], curr['x']))\n",
    "    \n",
    "    c7 = And(\n",
    "            Equals(curr['nodo'], Int(2)),\n",
    "            Equals(prox['nodo'], Int(5)),\n",
    "            overflow2(curr, n),\n",
    "            Equals(prox['x'], curr['x']),\n",
    "            Equals(prox['y'], curr['y']),\n",
    "            Equals(prox['z'], curr['z']))\n",
    "    \n",
    "    c8 = And(\n",
    "            Equals(curr['nodo'], Int(3)),\n",
    "            Equals(prox['nodo'], Int(3)),\n",
    "            Equals(prox['x'], curr['x']),\n",
    "            Equals(prox['y'], curr['y']),\n",
    "            Equals(prox['z'], curr['z']))\n",
    "    \n",
    "    c9 = And(\n",
    "            Equals(curr['nodo'], Int(4)),\n",
    "            Equals(prox['nodo'], Int(4)),\n",
    "            Equals(prox['x'], curr['x']),\n",
    "            Equals(prox['y'], curr['y']),\n",
    "            Equals(prox['z'], curr['z']))\n",
    "    \n",
    "    c10 = And(Equals(curr['nodo'], Int(5)),\n",
    "             Equals(prox['nodo'], Int(5)),\n",
    "             Equals(prox['x'], curr['x']),\n",
    "             Equals(prox['y'], curr['y']),\n",
    "             Equals(prox['z'], curr['z']))\n",
    "   \n",
    "    return Or(c1, c2, c3, c4, c5, c6, c7, c8, c9, c10)"
   ]
  },
  {
   "cell_type": "markdown",
   "id": "4f6de1c3",
   "metadata": {},
   "source": [
    "A função `genTrace` gera um possível traço de execução do programa com $n$ transições."
   ]
  },
  {
   "cell_type": "code",
   "execution_count": 10,
   "id": "8a018938",
   "metadata": {},
   "outputs": [
    {
     "name": "stdout",
     "output_type": "stream",
     "text": [
      "Estado: 0\n",
      "           nodo = 0\n",
      "           x = 5\n",
      "           y = 3\n",
      "           z = 0\n",
      "Estado: 1\n",
      "           nodo = 2\n",
      "           x = 5\n",
      "           y = 3\n",
      "           z = 0\n",
      "Estado: 2\n",
      "           nodo = 0\n",
      "           x = 5\n",
      "           y = 2\n",
      "           z = 5\n",
      "Estado: 3\n",
      "           nodo = 1\n",
      "           x = 5\n",
      "           y = 2\n",
      "           z = 5\n",
      "Estado: 4\n",
      "           nodo = 0\n",
      "           x = 10\n",
      "           y = 1\n",
      "           z = 5\n",
      "Estado: 5\n",
      "           nodo = 2\n",
      "           x = 10\n",
      "           y = 1\n",
      "           z = 5\n",
      "Estado: 6\n",
      "           nodo = 0\n",
      "           x = 10\n",
      "           y = 0\n",
      "           z = 15\n",
      "Estado: 7\n",
      "           nodo = 4\n",
      "           x = 10\n",
      "           y = 0\n",
      "           z = 15\n",
      "Estado: 8\n",
      "           nodo = 4\n",
      "           x = 10\n",
      "           y = 0\n",
      "           z = 15\n",
      "Estado: 9\n",
      "           nodo = 4\n",
      "           x = 10\n",
      "           y = 0\n",
      "           z = 15\n"
     ]
    }
   ],
   "source": [
    "def genTrace(vars, init, trans, error1, error2, a, b, max_val, n):\n",
    "    # n -> tamanho do traço de execução \n",
    "    # max_val -> valor máximo que pode atingir \n",
    "    with Solver(name=\"z3\") as s:\n",
    "        \n",
    "        X = [genState(vars,'X',i) for i in range(n+1)]   # cria n+1 estados (com etiqueta X)\n",
    "        I = init(X[0], a, b)\n",
    "        Tks = [ trans(X[i],X[i+1], max_val) for i in range(n) ]\n",
    "        \n",
    "        if s.solve([I,And(Tks)]):      # testa se I /\\ T^n  é satisfazível\n",
    "            for i in range(n):\n",
    "                print(\"Estado:\",i)\n",
    "                for v in X[i]:\n",
    "                    print(\"          \",v,'=',s.get_value(X[i][v]))\n",
    "                    \n",
    "genTrace(['nodo', 'x', 'y', 'z'], inicializacao, transicao, overflow1, overflow2, 5, 3, 30, 10)"
   ]
  },
  {
   "cell_type": "markdown",
   "id": "1e0a38b3",
   "metadata": {},
   "source": [
    "A função `invert` recebe como argumento a função que codifica a relação de transição, devolvendo a sua inversa."
   ]
  },
  {
   "cell_type": "code",
   "execution_count": 11,
   "id": "1822c6b1",
   "metadata": {},
   "outputs": [],
   "source": [
    "# trans(u,v)^-1 = trans(v,u) \n",
    "def invert(trans, curr, prox, n):\n",
    "    return trans(prox, curr, n)"
   ]
  },
  {
   "cell_type": "markdown",
   "id": "116f8955",
   "metadata": {},
   "source": [
    "### Model Cheking"
   ]
  },
  {
   "cell_type": "markdown",
   "id": "17db90dc",
   "metadata": {},
   "source": [
    "O algoritmo de “model-checking” manipula as fórmulas $\\;\\mathsf{R}_n\\;\\equiv\\; \\mathsf{I}\\,\\land\\,\\mathsf{T}^n\\;$ e $\\;\\mathsf{U}_m\\equiv\\; \\mathsf{E}\\,\\land\\,\\mathsf{B}^m\\;$ fazendo crescer os índices $\\;n,m\\;$ de acordo com determinadas regras."
   ]
  },
  {
   "cell_type": "markdown",
   "id": "63b30066",
   "metadata": {},
   "source": [
    "Para auxiliar na implementação deste algoritmo, começamos por definir duas funções.\n",
    "A função `rename` renomeia uma fórmula (sobre um estado) de acordo com um dado estado. \n",
    "A função `same` testa se dois estados são iguais."
   ]
  },
  {
   "cell_type": "code",
   "execution_count": 12,
   "id": "defdef04",
   "metadata": {},
   "outputs": [],
   "source": [
    "def baseName(s):\n",
    "    return ''.join(list(itertools.takewhile(lambda x: x!='!', s)))\n",
    "\n",
    "def rename(form,state):\n",
    "    vs = get_free_variables(form)\n",
    "    pairs = [ (x,state[baseName(x.symbol_name())]) for x in vs ]\n",
    "    return form.substitute(dict(pairs))\n",
    "\n",
    "def same(state1,state2):\n",
    "    return And([Equals(state1[x],state2[x]) for x in state1])"
   ]
  },
  {
   "cell_type": "code",
   "execution_count": 19,
   "id": "fa95f0a5",
   "metadata": {},
   "outputs": [
    {
     "ename": "ConvertExpressionError",
     "evalue": "Could not convert the input expression. The formula contains unsupported operators. The error was: Unsupported operator 'DIV' (node_type: 62)",
     "output_type": "error",
     "traceback": [
      "\u001b[0;31m---------------------------------------------------------------------------\u001b[0m",
      "\u001b[0;31mUnsupportedOperatorError\u001b[0m                  Traceback (most recent call last)",
      "File \u001b[0;32m~/anaconda3/envs/logica/lib/python3.10/site-packages/pysmt/decorators.py:84\u001b[0m, in \u001b[0;36mcatch_conversion_error.<locals>.catch_conversion_error_wrap\u001b[0;34m(*args, **kwargs)\u001b[0m\n\u001b[1;32m     83\u001b[0m \u001b[38;5;28;01mtry\u001b[39;00m:\n\u001b[0;32m---> 84\u001b[0m     res \u001b[38;5;241m=\u001b[39m \u001b[43mf\u001b[49m\u001b[43m(\u001b[49m\u001b[38;5;241;43m*\u001b[39;49m\u001b[43margs\u001b[49m\u001b[43m,\u001b[49m\u001b[43m \u001b[49m\u001b[38;5;241;43m*\u001b[39;49m\u001b[38;5;241;43m*\u001b[39;49m\u001b[43mkwargs\u001b[49m\u001b[43m)\u001b[49m\n\u001b[1;32m     85\u001b[0m \u001b[38;5;28;01mexcept\u001b[39;00m pysmt\u001b[38;5;241m.\u001b[39mexceptions\u001b[38;5;241m.\u001b[39mUnsupportedOperatorError \u001b[38;5;28;01mas\u001b[39;00m ex:\n",
      "File \u001b[0;32m~/anaconda3/envs/logica/lib/python3.10/site-packages/pysmt/solvers/msat.py:763\u001b[0m, in \u001b[0;36mMSatConverter.convert\u001b[0;34m(self, formula)\u001b[0m\n\u001b[1;32m    762\u001b[0m rformula \u001b[38;5;241m=\u001b[39m \u001b[38;5;28mself\u001b[39m\u001b[38;5;241m.\u001b[39m_ufrewriter\u001b[38;5;241m.\u001b[39mwalk(formula)\n\u001b[0;32m--> 763\u001b[0m res \u001b[38;5;241m=\u001b[39m \u001b[38;5;28;43mself\u001b[39;49m\u001b[38;5;241;43m.\u001b[39;49m\u001b[43mwalk\u001b[49m\u001b[43m(\u001b[49m\u001b[43mrformula\u001b[49m\u001b[43m)\u001b[49m\n\u001b[1;32m    764\u001b[0m \u001b[38;5;28;01mif\u001b[39;00m mathsat\u001b[38;5;241m.\u001b[39mMSAT_ERROR_TERM(res):\n",
      "File \u001b[0;32m~/anaconda3/envs/logica/lib/python3.10/site-packages/pysmt/walkers/dag.py:106\u001b[0m, in \u001b[0;36mDagWalker.walk\u001b[0;34m(self, formula, **kwargs)\u001b[0m\n\u001b[1;32m    104\u001b[0m     \u001b[38;5;28;01mreturn\u001b[39;00m \u001b[38;5;28mself\u001b[39m\u001b[38;5;241m.\u001b[39mmemoization[formula]\n\u001b[0;32m--> 106\u001b[0m res \u001b[38;5;241m=\u001b[39m \u001b[38;5;28;43mself\u001b[39;49m\u001b[38;5;241;43m.\u001b[39;49m\u001b[43miter_walk\u001b[49m\u001b[43m(\u001b[49m\u001b[43mformula\u001b[49m\u001b[43m,\u001b[49m\u001b[43m \u001b[49m\u001b[38;5;241;43m*\u001b[39;49m\u001b[38;5;241;43m*\u001b[39;49m\u001b[43mkwargs\u001b[49m\u001b[43m)\u001b[49m\n\u001b[1;32m    108\u001b[0m \u001b[38;5;28;01mif\u001b[39;00m \u001b[38;5;28mself\u001b[39m\u001b[38;5;241m.\u001b[39minvalidate_memoization:\n",
      "File \u001b[0;32m~/anaconda3/envs/logica/lib/python3.10/site-packages/pysmt/walkers/dag.py:98\u001b[0m, in \u001b[0;36mDagWalker.iter_walk\u001b[0;34m(self, formula, **kwargs)\u001b[0m\n\u001b[1;32m     97\u001b[0m \u001b[38;5;28mself\u001b[39m\u001b[38;5;241m.\u001b[39mstack\u001b[38;5;241m.\u001b[39mappend((\u001b[38;5;28;01mFalse\u001b[39;00m, formula))\n\u001b[0;32m---> 98\u001b[0m \u001b[38;5;28;43mself\u001b[39;49m\u001b[38;5;241;43m.\u001b[39;49m\u001b[43m_process_stack\u001b[49m\u001b[43m(\u001b[49m\u001b[38;5;241;43m*\u001b[39;49m\u001b[38;5;241;43m*\u001b[39;49m\u001b[43mkwargs\u001b[49m\u001b[43m)\u001b[49m\n\u001b[1;32m     99\u001b[0m res_key \u001b[38;5;241m=\u001b[39m \u001b[38;5;28mself\u001b[39m\u001b[38;5;241m.\u001b[39m_get_key(formula, \u001b[38;5;241m*\u001b[39m\u001b[38;5;241m*\u001b[39mkwargs)\n",
      "File \u001b[0;32m~/anaconda3/envs/logica/lib/python3.10/site-packages/pysmt/walkers/dag.py:91\u001b[0m, in \u001b[0;36mDagWalker._process_stack\u001b[0;34m(self, **kwargs)\u001b[0m\n\u001b[1;32m     90\u001b[0m \u001b[38;5;28;01mif\u001b[39;00m was_expanded:\n\u001b[0;32m---> 91\u001b[0m     \u001b[38;5;28;43mself\u001b[39;49m\u001b[38;5;241;43m.\u001b[39;49m\u001b[43m_compute_node_result\u001b[49m\u001b[43m(\u001b[49m\u001b[43mformula\u001b[49m\u001b[43m,\u001b[49m\u001b[43m \u001b[49m\u001b[38;5;241;43m*\u001b[39;49m\u001b[38;5;241;43m*\u001b[39;49m\u001b[43mkwargs\u001b[49m\u001b[43m)\u001b[49m\n\u001b[1;32m     92\u001b[0m \u001b[38;5;28;01melse\u001b[39;00m:\n",
      "File \u001b[0;32m~/anaconda3/envs/logica/lib/python3.10/site-packages/pysmt/walkers/dag.py:75\u001b[0m, in \u001b[0;36mDagWalker._compute_node_result\u001b[0;34m(self, formula, **kwargs)\u001b[0m\n\u001b[1;32m     73\u001b[0m     args \u001b[38;5;241m=\u001b[39m [\u001b[38;5;28mself\u001b[39m\u001b[38;5;241m.\u001b[39mmemoization[\u001b[38;5;28mself\u001b[39m\u001b[38;5;241m.\u001b[39m_get_key(s, \u001b[38;5;241m*\u001b[39m\u001b[38;5;241m*\u001b[39mkwargs)] \\\n\u001b[1;32m     74\u001b[0m             \u001b[38;5;28;01mfor\u001b[39;00m s \u001b[38;5;129;01min\u001b[39;00m \u001b[38;5;28mself\u001b[39m\u001b[38;5;241m.\u001b[39m_get_children(formula)]\n\u001b[0;32m---> 75\u001b[0m     \u001b[38;5;28mself\u001b[39m\u001b[38;5;241m.\u001b[39mmemoization[key] \u001b[38;5;241m=\u001b[39m \u001b[43mf\u001b[49m\u001b[43m(\u001b[49m\u001b[43mformula\u001b[49m\u001b[43m,\u001b[49m\u001b[43m \u001b[49m\u001b[43margs\u001b[49m\u001b[38;5;241;43m=\u001b[39;49m\u001b[43margs\u001b[49m\u001b[43m,\u001b[49m\u001b[43m \u001b[49m\u001b[38;5;241;43m*\u001b[39;49m\u001b[38;5;241;43m*\u001b[39;49m\u001b[43mkwargs\u001b[49m\u001b[43m)\u001b[49m\n\u001b[1;32m     76\u001b[0m \u001b[38;5;28;01melse\u001b[39;00m:\n",
      "File \u001b[0;32m~/anaconda3/envs/logica/lib/python3.10/site-packages/pysmt/walkers/generic.py:129\u001b[0m, in \u001b[0;36mWalker.walk_error\u001b[0;34m(self, formula, **kwargs)\u001b[0m\n\u001b[1;32m    128\u001b[0m node_type \u001b[38;5;241m=\u001b[39m formula\u001b[38;5;241m.\u001b[39mnode_type()\n\u001b[0;32m--> 129\u001b[0m \u001b[38;5;28;01mraise\u001b[39;00m pysmt\u001b[38;5;241m.\u001b[39mexceptions\u001b[38;5;241m.\u001b[39mUnsupportedOperatorError(node_type\u001b[38;5;241m=\u001b[39mnode_type,\n\u001b[1;32m    130\u001b[0m                                                 expression\u001b[38;5;241m=\u001b[39mformula)\n",
      "\u001b[0;31mUnsupportedOperatorError\u001b[0m: Unsupported operator 'DIV' (node_type: 62)",
      "\nDuring handling of the above exception, another exception occurred:\n",
      "\u001b[0;31mConvertExpressionError\u001b[0m                    Traceback (most recent call last)",
      "Input \u001b[0;32mIn [19]\u001b[0m, in \u001b[0;36m<cell line: 64>\u001b[0;34m()\u001b[0m\n\u001b[1;32m     58\u001b[0m                                 \u001b[38;5;28;01mreturn\u001b[39;00m \n\u001b[1;32m     61\u001b[0m         \u001b[38;5;28mprint\u001b[39m(\u001b[38;5;124m\"\u001b[39m\u001b[38;5;124munknown\u001b[39m\u001b[38;5;124m\"\u001b[39m)                   \n\u001b[0;32m---> 64\u001b[0m \u001b[43mmodel_checking\u001b[49m\u001b[43m(\u001b[49m\u001b[43m[\u001b[49m\u001b[38;5;124;43m'\u001b[39;49m\u001b[38;5;124;43mnodo\u001b[39;49m\u001b[38;5;124;43m'\u001b[39;49m\u001b[43m,\u001b[49m\u001b[43m \u001b[49m\u001b[38;5;124;43m'\u001b[39;49m\u001b[38;5;124;43mx\u001b[39;49m\u001b[38;5;124;43m'\u001b[39;49m\u001b[43m,\u001b[49m\u001b[43m \u001b[49m\u001b[38;5;124;43m'\u001b[39;49m\u001b[38;5;124;43my\u001b[39;49m\u001b[38;5;124;43m'\u001b[39;49m\u001b[43m,\u001b[49m\u001b[43m \u001b[49m\u001b[38;5;124;43m'\u001b[39;49m\u001b[38;5;124;43mz\u001b[39;49m\u001b[38;5;124;43m'\u001b[39;49m\u001b[43m]\u001b[49m\u001b[43m,\u001b[49m\u001b[43m \u001b[49m\u001b[43minicializacao\u001b[49m\u001b[43m,\u001b[49m\u001b[43m \u001b[49m\u001b[43mtransicao\u001b[49m\u001b[43m,\u001b[49m\u001b[43m \u001b[49m\u001b[43merror\u001b[49m\u001b[43m,\u001b[49m\u001b[43m \u001b[49m\u001b[38;5;241;43m5\u001b[39;49m\u001b[43m,\u001b[49m\u001b[43m \u001b[49m\u001b[38;5;241;43m3\u001b[39;49m\u001b[43m,\u001b[49m\u001b[43m \u001b[49m\u001b[38;5;241;43m30\u001b[39;49m\u001b[43m,\u001b[49m\u001b[43m \u001b[49m\u001b[38;5;241;43m50\u001b[39;49m\u001b[43m,\u001b[49m\u001b[43m \u001b[49m\u001b[38;5;241;43m50\u001b[39;49m\u001b[43m)\u001b[49m\n",
      "Input \u001b[0;32mIn [19]\u001b[0m, in \u001b[0;36mmodel_checking\u001b[0;34m(vars, init, trans, error, a, b, max_val, N, M)\u001b[0m\n\u001b[1;32m     24\u001b[0m     \u001b[38;5;28;01mreturn\u001b[39;00m \n\u001b[1;32m     26\u001b[0m \u001b[38;5;28;01melse\u001b[39;00m: \u001b[38;5;66;03m# Vnm insatisfazível\u001b[39;00m\n\u001b[0;32m---> 27\u001b[0m     C \u001b[38;5;241m=\u001b[39m \u001b[43mbinary_interpolant\u001b[49m\u001b[43m(\u001b[49m\u001b[43mAnd\u001b[49m\u001b[43m(\u001b[49m\u001b[43mRn\u001b[49m\u001b[43m,\u001b[49m\u001b[43m \u001b[49m\u001b[43msame\u001b[49m\u001b[43m(\u001b[49m\u001b[43mX\u001b[49m\u001b[43m[\u001b[49m\u001b[43mn\u001b[49m\u001b[43m]\u001b[49m\u001b[43m,\u001b[49m\u001b[43m \u001b[49m\u001b[43mY\u001b[49m\u001b[43m[\u001b[49m\u001b[43mm\u001b[49m\u001b[43m]\u001b[49m\u001b[43m)\u001b[49m\u001b[43m)\u001b[49m\u001b[43m,\u001b[49m\u001b[43m \u001b[49m\u001b[43mUm\u001b[49m\u001b[43m)\u001b[49m\n\u001b[1;32m     29\u001b[0m     \u001b[38;5;28;01mif\u001b[39;00m C \u001b[38;5;129;01mis\u001b[39;00m \u001b[38;5;28;01mNone\u001b[39;00m:\n\u001b[1;32m     30\u001b[0m         \u001b[38;5;28mprint\u001b[39m(\u001b[38;5;124m\"\u001b[39m\u001b[38;5;124minterpolant None\u001b[39m\u001b[38;5;124m\"\u001b[39m)\n",
      "File \u001b[0;32m~/anaconda3/envs/logica/lib/python3.10/site-packages/pysmt/shortcuts.py:1153\u001b[0m, in \u001b[0;36mbinary_interpolant\u001b[0;34m(formula_a, formula_b, solver_name, logic)\u001b[0m\n\u001b[1;32m   1149\u001b[0m         warnings\u001b[38;5;241m.\u001b[39mwarn(\u001b[38;5;124m\"\u001b[39m\u001b[38;5;124mWarning: Contextualizing formula during \u001b[39m\u001b[38;5;124m\"\u001b[39m\n\u001b[1;32m   1150\u001b[0m                       \u001b[38;5;124m\"\u001b[39m\u001b[38;5;124mbinary_interpolant\u001b[39m\u001b[38;5;124m\"\u001b[39m)\n\u001b[1;32m   1151\u001b[0m         formulas[i] \u001b[38;5;241m=\u001b[39m env\u001b[38;5;241m.\u001b[39mformula_manager\u001b[38;5;241m.\u001b[39mnormalize(f)\n\u001b[0;32m-> 1153\u001b[0m \u001b[38;5;28;01mreturn\u001b[39;00m \u001b[43menv\u001b[49m\u001b[38;5;241;43m.\u001b[39;49m\u001b[43mfactory\u001b[49m\u001b[38;5;241;43m.\u001b[39;49m\u001b[43mbinary_interpolant\u001b[49m\u001b[43m(\u001b[49m\u001b[43mformulas\u001b[49m\u001b[43m[\u001b[49m\u001b[38;5;241;43m0\u001b[39;49m\u001b[43m]\u001b[49m\u001b[43m,\u001b[49m\u001b[43m \u001b[49m\u001b[43mformulas\u001b[49m\u001b[43m[\u001b[49m\u001b[38;5;241;43m1\u001b[39;49m\u001b[43m]\u001b[49m\u001b[43m,\u001b[49m\n\u001b[1;32m   1154\u001b[0m \u001b[43m                                      \u001b[49m\u001b[43msolver_name\u001b[49m\u001b[38;5;241;43m=\u001b[39;49m\u001b[43msolver_name\u001b[49m\u001b[43m,\u001b[49m\n\u001b[1;32m   1155\u001b[0m \u001b[43m                                      \u001b[49m\u001b[43mlogic\u001b[49m\u001b[38;5;241;43m=\u001b[39;49m\u001b[43mlogic\u001b[49m\u001b[43m)\u001b[49m\n",
      "File \u001b[0;32m~/anaconda3/envs/logica/lib/python3.10/site-packages/pysmt/factory.py:563\u001b[0m, in \u001b[0;36mFactory.binary_interpolant\u001b[0;34m(self, formula_a, formula_b, solver_name, logic)\u001b[0m\n\u001b[1;32m    560\u001b[0m     logic \u001b[38;5;241m=\u001b[39m get_logic(_And(formula_a, formula_b))\n\u001b[1;32m    562\u001b[0m \u001b[38;5;28;01mwith\u001b[39;00m \u001b[38;5;28mself\u001b[39m\u001b[38;5;241m.\u001b[39mInterpolator(name\u001b[38;5;241m=\u001b[39msolver_name, logic\u001b[38;5;241m=\u001b[39mlogic) \u001b[38;5;28;01mas\u001b[39;00m itp:\n\u001b[0;32m--> 563\u001b[0m     \u001b[38;5;28;01mreturn\u001b[39;00m \u001b[43mitp\u001b[49m\u001b[38;5;241;43m.\u001b[39;49m\u001b[43mbinary_interpolant\u001b[49m\u001b[43m(\u001b[49m\u001b[43mformula_a\u001b[49m\u001b[43m,\u001b[49m\u001b[43m \u001b[49m\u001b[43mformula_b\u001b[49m\u001b[43m)\u001b[49m\n",
      "File \u001b[0;32m~/anaconda3/envs/logica/lib/python3.10/site-packages/pysmt/solvers/msat.py:1219\u001b[0m, in \u001b[0;36mMSatInterpolator.binary_interpolant\u001b[0;34m(self, a, b)\u001b[0m\n\u001b[1;32m   1218\u001b[0m \u001b[38;5;28;01mdef\u001b[39;00m \u001b[38;5;21mbinary_interpolant\u001b[39m(\u001b[38;5;28mself\u001b[39m, a, b):\n\u001b[0;32m-> 1219\u001b[0m     res \u001b[38;5;241m=\u001b[39m \u001b[38;5;28;43mself\u001b[39;49m\u001b[38;5;241;43m.\u001b[39;49m\u001b[43msequence_interpolant\u001b[49m\u001b[43m(\u001b[49m\u001b[43m[\u001b[49m\u001b[43ma\u001b[49m\u001b[43m,\u001b[49m\u001b[43m \u001b[49m\u001b[43mb\u001b[49m\u001b[43m]\u001b[49m\u001b[43m)\u001b[49m\n\u001b[1;32m   1220\u001b[0m     \u001b[38;5;28;01mif\u001b[39;00m res \u001b[38;5;129;01mis\u001b[39;00m \u001b[38;5;129;01mnot\u001b[39;00m \u001b[38;5;28;01mNone\u001b[39;00m:\n\u001b[1;32m   1221\u001b[0m         res \u001b[38;5;241m=\u001b[39m res[\u001b[38;5;241m0\u001b[39m]\n",
      "File \u001b[0;32m~/anaconda3/envs/logica/lib/python3.10/site-packages/pysmt/solvers/msat.py:1241\u001b[0m, in \u001b[0;36mMSatInterpolator.sequence_interpolant\u001b[0;34m(self, formulas)\u001b[0m\n\u001b[1;32m   1239\u001b[0m groups \u001b[38;5;241m=\u001b[39m []\n\u001b[1;32m   1240\u001b[0m \u001b[38;5;28;01mfor\u001b[39;00m f \u001b[38;5;129;01min\u001b[39;00m formulas:\n\u001b[0;32m-> 1241\u001b[0m     f \u001b[38;5;241m=\u001b[39m \u001b[38;5;28;43mself\u001b[39;49m\u001b[38;5;241;43m.\u001b[39;49m\u001b[43mconverter\u001b[49m\u001b[38;5;241;43m.\u001b[39;49m\u001b[43mconvert\u001b[49m\u001b[43m(\u001b[49m\u001b[43mf\u001b[49m\u001b[43m)\u001b[49m\n\u001b[1;32m   1242\u001b[0m     g \u001b[38;5;241m=\u001b[39m mathsat\u001b[38;5;241m.\u001b[39mmsat_create_itp_group(env)\n\u001b[1;32m   1243\u001b[0m     mathsat\u001b[38;5;241m.\u001b[39mmsat_set_itp_group(env, g)\n",
      "File \u001b[0;32m~/anaconda3/envs/logica/lib/python3.10/site-packages/pysmt/decorators.py:86\u001b[0m, in \u001b[0;36mcatch_conversion_error.<locals>.catch_conversion_error_wrap\u001b[0;34m(*args, **kwargs)\u001b[0m\n\u001b[1;32m     84\u001b[0m     res \u001b[38;5;241m=\u001b[39m f(\u001b[38;5;241m*\u001b[39margs, \u001b[38;5;241m*\u001b[39m\u001b[38;5;241m*\u001b[39mkwargs)\n\u001b[1;32m     85\u001b[0m \u001b[38;5;28;01mexcept\u001b[39;00m pysmt\u001b[38;5;241m.\u001b[39mexceptions\u001b[38;5;241m.\u001b[39mUnsupportedOperatorError \u001b[38;5;28;01mas\u001b[39;00m ex:\n\u001b[0;32m---> 86\u001b[0m     \u001b[38;5;28;01mraise\u001b[39;00m pysmt\u001b[38;5;241m.\u001b[39mexceptions\u001b[38;5;241m.\u001b[39mConvertExpressionError(message\u001b[38;5;241m=\u001b[39m\n\u001b[1;32m     87\u001b[0m         \u001b[38;5;124m\"\u001b[39m\u001b[38;5;124mCould not convert the input expression. \u001b[39m\u001b[38;5;124m\"\u001b[39m \u001b[38;5;241m+\u001b[39m\n\u001b[1;32m     88\u001b[0m         \u001b[38;5;124m\"\u001b[39m\u001b[38;5;124mThe formula contains unsupported operators. \u001b[39m\u001b[38;5;124m\"\u001b[39m \u001b[38;5;241m+\u001b[39m\n\u001b[1;32m     89\u001b[0m         \u001b[38;5;124m\"\u001b[39m\u001b[38;5;124mThe error was: \u001b[39m\u001b[38;5;132;01m%s\u001b[39;00m\u001b[38;5;124m\"\u001b[39m \u001b[38;5;241m%\u001b[39m ex\u001b[38;5;241m.\u001b[39mmessage,\n\u001b[1;32m     90\u001b[0m     expression\u001b[38;5;241m=\u001b[39mex\u001b[38;5;241m.\u001b[39mexpression)\n\u001b[1;32m     91\u001b[0m \u001b[38;5;28;01mreturn\u001b[39;00m res\n",
      "\u001b[0;31mConvertExpressionError\u001b[0m: Could not convert the input expression. The formula contains unsupported operators. The error was: Unsupported operator 'DIV' (node_type: 62)"
     ]
    }
   ],
   "source": [
    "def model_checking(vars, init, trans, error, a, b, max_val, N, M):\n",
    "    with Solver(name=\"z3\") as s:\n",
    "        \n",
    "        # Criar todos os estados que poderão vir a ser necessários.\n",
    "        X = [genState(vars,'X',i) for i in range(N+1)]\n",
    "        Y = [genState(vars,'Y',i) for i in range(M+1)]\n",
    "        \n",
    "        # Estabelecer a ordem pela qual os pares (n,m) vão surgir. Por exemplo:\n",
    "        order = sorted([(a,b) for a in range(1,N+1) for b in range(1,M+1)],key=lambda tup:tup[0]+tup[1]) \n",
    "        \n",
    "        for (n,m) in order:\n",
    "            I = init(X[0], a, b)\n",
    "            Tn = And([trans(X[i], X[i+1], max_val) for i in range(n)])\n",
    "            Rn = And(I, Tn)\n",
    "            \n",
    "            Bm = And([invert(trans, Y[i], Y[i+1], max_val) for i in range(m)])\n",
    "            E = error(Y[0])\n",
    "            Um = And(E, Bm)\n",
    "            \n",
    "            Vnm = And(Rn, same(X[n], Y[m]), Um) \n",
    "            \n",
    "            if s.solve([Vnm]):\n",
    "                print(\"unsafe\")\n",
    "                return \n",
    "            \n",
    "            else: # Vnm insatisfazível\n",
    "                C = binary_interpolant(And(Rn, same(X[n], Y[m])), Um)\n",
    "                \n",
    "                if C is None:\n",
    "                    print(\"interpolant None\")\n",
    "                    continue\n",
    "                    \n",
    "                C0 = rename(C, X[0])\n",
    "                C1 = rename(C, X[1])\n",
    "                T = And(X[0], X[1])\n",
    "                \n",
    "                if not s.solve([C0, T, Not(C1)]): # C é invariante de T\n",
    "                    print(\"safe\")\n",
    "                    return\n",
    "                \n",
    "                else: # tenta gerar o majorante S\n",
    "                    S = rename(C, X[n])\n",
    "                    while True:\n",
    "                        A = And(S, trans, X[n], Y[m])\n",
    "                        if s. solve(A, Um):\n",
    "                            print(\"Não é possivel encontrar um majorante\")\n",
    "                            break\n",
    "                        \n",
    "                        else:\n",
    "                            Cnew = binary_interpolant(A, Um)\n",
    "                            Cn = rename(Cnew, X[n])\n",
    "                            \n",
    "                            if s.solve([Cn, Not(S)]): # se Cn->S não é tautologia\n",
    "                                S = Or(S, Cn)\n",
    "                                \n",
    "                            else: # S foi encontado\n",
    "                                print(\"safe\")\n",
    "                                return \n",
    "            \n",
    "              \n",
    "        print(\"unknown\")                   \n",
    "        \n",
    "\n",
    "model_checking(['nodo', 'x', 'y', 'z'], inicializacao, transicao, error, 5, 3, 30, 50, 50)      "
   ]
  },
  {
   "cell_type": "code",
   "execution_count": 26,
   "id": "e46c0d27",
   "metadata": {},
   "outputs": [],
   "source": [
    "def model_checking(vars, init, trans, error, a, b, max_val, N, M):\n",
    "    \n",
    "    with Solver(name=\"z3\") as s:\n",
    "        \n",
    "        X = [genState(vars,'X',i) for i in range(N+1)]\n",
    "        Y = [genState(vars,'Y',i) for i in range(M+1)]\n",
    "        \n",
    "        order = sorted([(a,b) for a in range(1,N+1) for b in range(1,M+1)],key=lambda tup:tup[0]+tup[1])\n",
    "        \n",
    "        for (n,m) in order:\n",
    "            I = inicializacao(X[0], a, b)\n",
    "            Tn = And([transicao(X[i], X[i+1], max_val) for i in range(n)])\n",
    "            Rn = And(I, Tn)\n",
    "            \n",
    "            Bm = And([invert(trans, Y[i], Y[i+1], max_val) for i in range(m)])\n",
    "            E = error(Y[0])\n",
    "            Um = And(E, Bm)\n",
    "            \n",
    "            Vnm = And(Rn, same(X[n], Y[m]), Um)\n",
    "            \n",
    "            if s.solve([Vnm]):\n",
    "                print(\"unsafe\")\n",
    "                return\n",
    "            else:\n",
    "                while n < N or m < M:\n",
    "                    C = binary_interpolant(And(Rn, same(X[n], Y[m])), Um)\n",
    "                    if C is None:\n",
    "                        print(\"interpolant None\")\n",
    "                        choice = str(input(\"Que variável incrementar? \"))\n",
    "                        if choice == 'm':\n",
    "                            m += 1\n",
    "                        elif choice == 'n':\n",
    "                            n += 1\n",
    "                    else:\n",
    "                        C0 = rename(C, X[0])\n",
    "                        C1 = rename(C, X[1])\n",
    "                        T = trans1(X[0], X[1])\n",
    "                        if not s.solve([C0,T,Not(C1)]):\n",
    "                            print(\"safe\")\n",
    "                            return\n",
    "                    \n",
    "            "
   ]
  },
  {
   "cell_type": "code",
   "execution_count": 25,
   "id": "23106550",
   "metadata": {},
   "outputs": [
    {
     "ename": "ConvertExpressionError",
     "evalue": "Could not convert the input expression. The formula contains unsupported operators. The error was: Unsupported operator 'DIV' (node_type: 62)",
     "output_type": "error",
     "traceback": [
      "\u001b[0;31m---------------------------------------------------------------------------\u001b[0m",
      "\u001b[0;31mUnsupportedOperatorError\u001b[0m                  Traceback (most recent call last)",
      "File \u001b[0;32m~/anaconda3/envs/logica/lib/python3.10/site-packages/pysmt/decorators.py:84\u001b[0m, in \u001b[0;36mcatch_conversion_error.<locals>.catch_conversion_error_wrap\u001b[0;34m(*args, **kwargs)\u001b[0m\n\u001b[1;32m     83\u001b[0m \u001b[38;5;28;01mtry\u001b[39;00m:\n\u001b[0;32m---> 84\u001b[0m     res \u001b[38;5;241m=\u001b[39m \u001b[43mf\u001b[49m\u001b[43m(\u001b[49m\u001b[38;5;241;43m*\u001b[39;49m\u001b[43margs\u001b[49m\u001b[43m,\u001b[49m\u001b[43m \u001b[49m\u001b[38;5;241;43m*\u001b[39;49m\u001b[38;5;241;43m*\u001b[39;49m\u001b[43mkwargs\u001b[49m\u001b[43m)\u001b[49m\n\u001b[1;32m     85\u001b[0m \u001b[38;5;28;01mexcept\u001b[39;00m pysmt\u001b[38;5;241m.\u001b[39mexceptions\u001b[38;5;241m.\u001b[39mUnsupportedOperatorError \u001b[38;5;28;01mas\u001b[39;00m ex:\n",
      "File \u001b[0;32m~/anaconda3/envs/logica/lib/python3.10/site-packages/pysmt/solvers/msat.py:763\u001b[0m, in \u001b[0;36mMSatConverter.convert\u001b[0;34m(self, formula)\u001b[0m\n\u001b[1;32m    762\u001b[0m rformula \u001b[38;5;241m=\u001b[39m \u001b[38;5;28mself\u001b[39m\u001b[38;5;241m.\u001b[39m_ufrewriter\u001b[38;5;241m.\u001b[39mwalk(formula)\n\u001b[0;32m--> 763\u001b[0m res \u001b[38;5;241m=\u001b[39m \u001b[38;5;28;43mself\u001b[39;49m\u001b[38;5;241;43m.\u001b[39;49m\u001b[43mwalk\u001b[49m\u001b[43m(\u001b[49m\u001b[43mrformula\u001b[49m\u001b[43m)\u001b[49m\n\u001b[1;32m    764\u001b[0m \u001b[38;5;28;01mif\u001b[39;00m mathsat\u001b[38;5;241m.\u001b[39mMSAT_ERROR_TERM(res):\n",
      "File \u001b[0;32m~/anaconda3/envs/logica/lib/python3.10/site-packages/pysmt/walkers/dag.py:106\u001b[0m, in \u001b[0;36mDagWalker.walk\u001b[0;34m(self, formula, **kwargs)\u001b[0m\n\u001b[1;32m    104\u001b[0m     \u001b[38;5;28;01mreturn\u001b[39;00m \u001b[38;5;28mself\u001b[39m\u001b[38;5;241m.\u001b[39mmemoization[formula]\n\u001b[0;32m--> 106\u001b[0m res \u001b[38;5;241m=\u001b[39m \u001b[38;5;28;43mself\u001b[39;49m\u001b[38;5;241;43m.\u001b[39;49m\u001b[43miter_walk\u001b[49m\u001b[43m(\u001b[49m\u001b[43mformula\u001b[49m\u001b[43m,\u001b[49m\u001b[43m \u001b[49m\u001b[38;5;241;43m*\u001b[39;49m\u001b[38;5;241;43m*\u001b[39;49m\u001b[43mkwargs\u001b[49m\u001b[43m)\u001b[49m\n\u001b[1;32m    108\u001b[0m \u001b[38;5;28;01mif\u001b[39;00m \u001b[38;5;28mself\u001b[39m\u001b[38;5;241m.\u001b[39minvalidate_memoization:\n",
      "File \u001b[0;32m~/anaconda3/envs/logica/lib/python3.10/site-packages/pysmt/walkers/dag.py:98\u001b[0m, in \u001b[0;36mDagWalker.iter_walk\u001b[0;34m(self, formula, **kwargs)\u001b[0m\n\u001b[1;32m     97\u001b[0m \u001b[38;5;28mself\u001b[39m\u001b[38;5;241m.\u001b[39mstack\u001b[38;5;241m.\u001b[39mappend((\u001b[38;5;28;01mFalse\u001b[39;00m, formula))\n\u001b[0;32m---> 98\u001b[0m \u001b[38;5;28;43mself\u001b[39;49m\u001b[38;5;241;43m.\u001b[39;49m\u001b[43m_process_stack\u001b[49m\u001b[43m(\u001b[49m\u001b[38;5;241;43m*\u001b[39;49m\u001b[38;5;241;43m*\u001b[39;49m\u001b[43mkwargs\u001b[49m\u001b[43m)\u001b[49m\n\u001b[1;32m     99\u001b[0m res_key \u001b[38;5;241m=\u001b[39m \u001b[38;5;28mself\u001b[39m\u001b[38;5;241m.\u001b[39m_get_key(formula, \u001b[38;5;241m*\u001b[39m\u001b[38;5;241m*\u001b[39mkwargs)\n",
      "File \u001b[0;32m~/anaconda3/envs/logica/lib/python3.10/site-packages/pysmt/walkers/dag.py:91\u001b[0m, in \u001b[0;36mDagWalker._process_stack\u001b[0;34m(self, **kwargs)\u001b[0m\n\u001b[1;32m     90\u001b[0m \u001b[38;5;28;01mif\u001b[39;00m was_expanded:\n\u001b[0;32m---> 91\u001b[0m     \u001b[38;5;28;43mself\u001b[39;49m\u001b[38;5;241;43m.\u001b[39;49m\u001b[43m_compute_node_result\u001b[49m\u001b[43m(\u001b[49m\u001b[43mformula\u001b[49m\u001b[43m,\u001b[49m\u001b[43m \u001b[49m\u001b[38;5;241;43m*\u001b[39;49m\u001b[38;5;241;43m*\u001b[39;49m\u001b[43mkwargs\u001b[49m\u001b[43m)\u001b[49m\n\u001b[1;32m     92\u001b[0m \u001b[38;5;28;01melse\u001b[39;00m:\n",
      "File \u001b[0;32m~/anaconda3/envs/logica/lib/python3.10/site-packages/pysmt/walkers/dag.py:75\u001b[0m, in \u001b[0;36mDagWalker._compute_node_result\u001b[0;34m(self, formula, **kwargs)\u001b[0m\n\u001b[1;32m     73\u001b[0m     args \u001b[38;5;241m=\u001b[39m [\u001b[38;5;28mself\u001b[39m\u001b[38;5;241m.\u001b[39mmemoization[\u001b[38;5;28mself\u001b[39m\u001b[38;5;241m.\u001b[39m_get_key(s, \u001b[38;5;241m*\u001b[39m\u001b[38;5;241m*\u001b[39mkwargs)] \\\n\u001b[1;32m     74\u001b[0m             \u001b[38;5;28;01mfor\u001b[39;00m s \u001b[38;5;129;01min\u001b[39;00m \u001b[38;5;28mself\u001b[39m\u001b[38;5;241m.\u001b[39m_get_children(formula)]\n\u001b[0;32m---> 75\u001b[0m     \u001b[38;5;28mself\u001b[39m\u001b[38;5;241m.\u001b[39mmemoization[key] \u001b[38;5;241m=\u001b[39m \u001b[43mf\u001b[49m\u001b[43m(\u001b[49m\u001b[43mformula\u001b[49m\u001b[43m,\u001b[49m\u001b[43m \u001b[49m\u001b[43margs\u001b[49m\u001b[38;5;241;43m=\u001b[39;49m\u001b[43margs\u001b[49m\u001b[43m,\u001b[49m\u001b[43m \u001b[49m\u001b[38;5;241;43m*\u001b[39;49m\u001b[38;5;241;43m*\u001b[39;49m\u001b[43mkwargs\u001b[49m\u001b[43m)\u001b[49m\n\u001b[1;32m     76\u001b[0m \u001b[38;5;28;01melse\u001b[39;00m:\n",
      "File \u001b[0;32m~/anaconda3/envs/logica/lib/python3.10/site-packages/pysmt/walkers/generic.py:129\u001b[0m, in \u001b[0;36mWalker.walk_error\u001b[0;34m(self, formula, **kwargs)\u001b[0m\n\u001b[1;32m    128\u001b[0m node_type \u001b[38;5;241m=\u001b[39m formula\u001b[38;5;241m.\u001b[39mnode_type()\n\u001b[0;32m--> 129\u001b[0m \u001b[38;5;28;01mraise\u001b[39;00m pysmt\u001b[38;5;241m.\u001b[39mexceptions\u001b[38;5;241m.\u001b[39mUnsupportedOperatorError(node_type\u001b[38;5;241m=\u001b[39mnode_type,\n\u001b[1;32m    130\u001b[0m                                                 expression\u001b[38;5;241m=\u001b[39mformula)\n",
      "\u001b[0;31mUnsupportedOperatorError\u001b[0m: Unsupported operator 'DIV' (node_type: 62)",
      "\nDuring handling of the above exception, another exception occurred:\n",
      "\u001b[0;31mConvertExpressionError\u001b[0m                    Traceback (most recent call last)",
      "Input \u001b[0;32mIn [25]\u001b[0m, in \u001b[0;36m<cell line: 1>\u001b[0;34m()\u001b[0m\n\u001b[0;32m----> 1\u001b[0m \u001b[43mmodel_checking\u001b[49m\u001b[43m(\u001b[49m\u001b[43m[\u001b[49m\u001b[38;5;124;43m'\u001b[39;49m\u001b[38;5;124;43mnodo\u001b[39;49m\u001b[38;5;124;43m'\u001b[39;49m\u001b[43m,\u001b[49m\u001b[43m \u001b[49m\u001b[38;5;124;43m'\u001b[39;49m\u001b[38;5;124;43mx\u001b[39;49m\u001b[38;5;124;43m'\u001b[39;49m\u001b[43m,\u001b[49m\u001b[43m \u001b[49m\u001b[38;5;124;43m'\u001b[39;49m\u001b[38;5;124;43my\u001b[39;49m\u001b[38;5;124;43m'\u001b[39;49m\u001b[43m,\u001b[49m\u001b[43m \u001b[49m\u001b[38;5;124;43m'\u001b[39;49m\u001b[38;5;124;43mz\u001b[39;49m\u001b[38;5;124;43m'\u001b[39;49m\u001b[43m]\u001b[49m\u001b[43m,\u001b[49m\u001b[43m \u001b[49m\u001b[43minicializacao\u001b[49m\u001b[43m,\u001b[49m\u001b[43m \u001b[49m\u001b[43mtransicao\u001b[49m\u001b[43m,\u001b[49m\u001b[43m \u001b[49m\u001b[43merror\u001b[49m\u001b[43m,\u001b[49m\u001b[43m \u001b[49m\u001b[38;5;241;43m5\u001b[39;49m\u001b[43m,\u001b[49m\u001b[43m \u001b[49m\u001b[38;5;241;43m3\u001b[39;49m\u001b[43m,\u001b[49m\u001b[43m \u001b[49m\u001b[38;5;241;43m30\u001b[39;49m\u001b[43m,\u001b[49m\u001b[43m \u001b[49m\u001b[38;5;241;43m50\u001b[39;49m\u001b[43m,\u001b[49m\u001b[43m \u001b[49m\u001b[38;5;241;43m50\u001b[39;49m\u001b[43m)\u001b[49m\n",
      "Input \u001b[0;32mIn [24]\u001b[0m, in \u001b[0;36mmodel_checking\u001b[0;34m(vars, init, trans, error, a, b, max_val, N, M)\u001b[0m\n\u001b[1;32m     24\u001b[0m \u001b[38;5;28;01melse\u001b[39;00m:\n\u001b[1;32m     25\u001b[0m     \u001b[38;5;28;01mwhile\u001b[39;00m n \u001b[38;5;241m<\u001b[39m N \u001b[38;5;129;01mor\u001b[39;00m m \u001b[38;5;241m<\u001b[39m M:\n\u001b[0;32m---> 26\u001b[0m         C \u001b[38;5;241m=\u001b[39m \u001b[43mbinary_interpolant\u001b[49m\u001b[43m(\u001b[49m\u001b[43mAnd\u001b[49m\u001b[43m(\u001b[49m\u001b[43mRn\u001b[49m\u001b[43m,\u001b[49m\u001b[43m \u001b[49m\u001b[43msame\u001b[49m\u001b[43m(\u001b[49m\u001b[43mX\u001b[49m\u001b[43m[\u001b[49m\u001b[43mn\u001b[49m\u001b[43m]\u001b[49m\u001b[43m,\u001b[49m\u001b[43m \u001b[49m\u001b[43mY\u001b[49m\u001b[43m[\u001b[49m\u001b[43mm\u001b[49m\u001b[43m]\u001b[49m\u001b[43m)\u001b[49m\u001b[43m)\u001b[49m\u001b[43m,\u001b[49m\u001b[43m \u001b[49m\u001b[43mUm\u001b[49m\u001b[43m)\u001b[49m\n\u001b[1;32m     27\u001b[0m         \u001b[38;5;28;01mif\u001b[39;00m C \u001b[38;5;129;01mis\u001b[39;00m \u001b[38;5;28;01mNone\u001b[39;00m:\n\u001b[1;32m     28\u001b[0m             \u001b[38;5;28mprint\u001b[39m(\u001b[38;5;124m\"\u001b[39m\u001b[38;5;124minterpolant None\u001b[39m\u001b[38;5;124m\"\u001b[39m)\n",
      "File \u001b[0;32m~/anaconda3/envs/logica/lib/python3.10/site-packages/pysmt/shortcuts.py:1153\u001b[0m, in \u001b[0;36mbinary_interpolant\u001b[0;34m(formula_a, formula_b, solver_name, logic)\u001b[0m\n\u001b[1;32m   1149\u001b[0m         warnings\u001b[38;5;241m.\u001b[39mwarn(\u001b[38;5;124m\"\u001b[39m\u001b[38;5;124mWarning: Contextualizing formula during \u001b[39m\u001b[38;5;124m\"\u001b[39m\n\u001b[1;32m   1150\u001b[0m                       \u001b[38;5;124m\"\u001b[39m\u001b[38;5;124mbinary_interpolant\u001b[39m\u001b[38;5;124m\"\u001b[39m)\n\u001b[1;32m   1151\u001b[0m         formulas[i] \u001b[38;5;241m=\u001b[39m env\u001b[38;5;241m.\u001b[39mformula_manager\u001b[38;5;241m.\u001b[39mnormalize(f)\n\u001b[0;32m-> 1153\u001b[0m \u001b[38;5;28;01mreturn\u001b[39;00m \u001b[43menv\u001b[49m\u001b[38;5;241;43m.\u001b[39;49m\u001b[43mfactory\u001b[49m\u001b[38;5;241;43m.\u001b[39;49m\u001b[43mbinary_interpolant\u001b[49m\u001b[43m(\u001b[49m\u001b[43mformulas\u001b[49m\u001b[43m[\u001b[49m\u001b[38;5;241;43m0\u001b[39;49m\u001b[43m]\u001b[49m\u001b[43m,\u001b[49m\u001b[43m \u001b[49m\u001b[43mformulas\u001b[49m\u001b[43m[\u001b[49m\u001b[38;5;241;43m1\u001b[39;49m\u001b[43m]\u001b[49m\u001b[43m,\u001b[49m\n\u001b[1;32m   1154\u001b[0m \u001b[43m                                      \u001b[49m\u001b[43msolver_name\u001b[49m\u001b[38;5;241;43m=\u001b[39;49m\u001b[43msolver_name\u001b[49m\u001b[43m,\u001b[49m\n\u001b[1;32m   1155\u001b[0m \u001b[43m                                      \u001b[49m\u001b[43mlogic\u001b[49m\u001b[38;5;241;43m=\u001b[39;49m\u001b[43mlogic\u001b[49m\u001b[43m)\u001b[49m\n",
      "File \u001b[0;32m~/anaconda3/envs/logica/lib/python3.10/site-packages/pysmt/factory.py:563\u001b[0m, in \u001b[0;36mFactory.binary_interpolant\u001b[0;34m(self, formula_a, formula_b, solver_name, logic)\u001b[0m\n\u001b[1;32m    560\u001b[0m     logic \u001b[38;5;241m=\u001b[39m get_logic(_And(formula_a, formula_b))\n\u001b[1;32m    562\u001b[0m \u001b[38;5;28;01mwith\u001b[39;00m \u001b[38;5;28mself\u001b[39m\u001b[38;5;241m.\u001b[39mInterpolator(name\u001b[38;5;241m=\u001b[39msolver_name, logic\u001b[38;5;241m=\u001b[39mlogic) \u001b[38;5;28;01mas\u001b[39;00m itp:\n\u001b[0;32m--> 563\u001b[0m     \u001b[38;5;28;01mreturn\u001b[39;00m \u001b[43mitp\u001b[49m\u001b[38;5;241;43m.\u001b[39;49m\u001b[43mbinary_interpolant\u001b[49m\u001b[43m(\u001b[49m\u001b[43mformula_a\u001b[49m\u001b[43m,\u001b[49m\u001b[43m \u001b[49m\u001b[43mformula_b\u001b[49m\u001b[43m)\u001b[49m\n",
      "File \u001b[0;32m~/anaconda3/envs/logica/lib/python3.10/site-packages/pysmt/solvers/msat.py:1219\u001b[0m, in \u001b[0;36mMSatInterpolator.binary_interpolant\u001b[0;34m(self, a, b)\u001b[0m\n\u001b[1;32m   1218\u001b[0m \u001b[38;5;28;01mdef\u001b[39;00m \u001b[38;5;21mbinary_interpolant\u001b[39m(\u001b[38;5;28mself\u001b[39m, a, b):\n\u001b[0;32m-> 1219\u001b[0m     res \u001b[38;5;241m=\u001b[39m \u001b[38;5;28;43mself\u001b[39;49m\u001b[38;5;241;43m.\u001b[39;49m\u001b[43msequence_interpolant\u001b[49m\u001b[43m(\u001b[49m\u001b[43m[\u001b[49m\u001b[43ma\u001b[49m\u001b[43m,\u001b[49m\u001b[43m \u001b[49m\u001b[43mb\u001b[49m\u001b[43m]\u001b[49m\u001b[43m)\u001b[49m\n\u001b[1;32m   1220\u001b[0m     \u001b[38;5;28;01mif\u001b[39;00m res \u001b[38;5;129;01mis\u001b[39;00m \u001b[38;5;129;01mnot\u001b[39;00m \u001b[38;5;28;01mNone\u001b[39;00m:\n\u001b[1;32m   1221\u001b[0m         res \u001b[38;5;241m=\u001b[39m res[\u001b[38;5;241m0\u001b[39m]\n",
      "File \u001b[0;32m~/anaconda3/envs/logica/lib/python3.10/site-packages/pysmt/solvers/msat.py:1241\u001b[0m, in \u001b[0;36mMSatInterpolator.sequence_interpolant\u001b[0;34m(self, formulas)\u001b[0m\n\u001b[1;32m   1239\u001b[0m groups \u001b[38;5;241m=\u001b[39m []\n\u001b[1;32m   1240\u001b[0m \u001b[38;5;28;01mfor\u001b[39;00m f \u001b[38;5;129;01min\u001b[39;00m formulas:\n\u001b[0;32m-> 1241\u001b[0m     f \u001b[38;5;241m=\u001b[39m \u001b[38;5;28;43mself\u001b[39;49m\u001b[38;5;241;43m.\u001b[39;49m\u001b[43mconverter\u001b[49m\u001b[38;5;241;43m.\u001b[39;49m\u001b[43mconvert\u001b[49m\u001b[43m(\u001b[49m\u001b[43mf\u001b[49m\u001b[43m)\u001b[49m\n\u001b[1;32m   1242\u001b[0m     g \u001b[38;5;241m=\u001b[39m mathsat\u001b[38;5;241m.\u001b[39mmsat_create_itp_group(env)\n\u001b[1;32m   1243\u001b[0m     mathsat\u001b[38;5;241m.\u001b[39mmsat_set_itp_group(env, g)\n",
      "File \u001b[0;32m~/anaconda3/envs/logica/lib/python3.10/site-packages/pysmt/decorators.py:86\u001b[0m, in \u001b[0;36mcatch_conversion_error.<locals>.catch_conversion_error_wrap\u001b[0;34m(*args, **kwargs)\u001b[0m\n\u001b[1;32m     84\u001b[0m     res \u001b[38;5;241m=\u001b[39m f(\u001b[38;5;241m*\u001b[39margs, \u001b[38;5;241m*\u001b[39m\u001b[38;5;241m*\u001b[39mkwargs)\n\u001b[1;32m     85\u001b[0m \u001b[38;5;28;01mexcept\u001b[39;00m pysmt\u001b[38;5;241m.\u001b[39mexceptions\u001b[38;5;241m.\u001b[39mUnsupportedOperatorError \u001b[38;5;28;01mas\u001b[39;00m ex:\n\u001b[0;32m---> 86\u001b[0m     \u001b[38;5;28;01mraise\u001b[39;00m pysmt\u001b[38;5;241m.\u001b[39mexceptions\u001b[38;5;241m.\u001b[39mConvertExpressionError(message\u001b[38;5;241m=\u001b[39m\n\u001b[1;32m     87\u001b[0m         \u001b[38;5;124m\"\u001b[39m\u001b[38;5;124mCould not convert the input expression. \u001b[39m\u001b[38;5;124m\"\u001b[39m \u001b[38;5;241m+\u001b[39m\n\u001b[1;32m     88\u001b[0m         \u001b[38;5;124m\"\u001b[39m\u001b[38;5;124mThe formula contains unsupported operators. \u001b[39m\u001b[38;5;124m\"\u001b[39m \u001b[38;5;241m+\u001b[39m\n\u001b[1;32m     89\u001b[0m         \u001b[38;5;124m\"\u001b[39m\u001b[38;5;124mThe error was: \u001b[39m\u001b[38;5;132;01m%s\u001b[39;00m\u001b[38;5;124m\"\u001b[39m \u001b[38;5;241m%\u001b[39m ex\u001b[38;5;241m.\u001b[39mmessage,\n\u001b[1;32m     90\u001b[0m     expression\u001b[38;5;241m=\u001b[39mex\u001b[38;5;241m.\u001b[39mexpression)\n\u001b[1;32m     91\u001b[0m \u001b[38;5;28;01mreturn\u001b[39;00m res\n",
      "\u001b[0;31mConvertExpressionError\u001b[0m: Could not convert the input expression. The formula contains unsupported operators. The error was: Unsupported operator 'DIV' (node_type: 62)"
     ]
    }
   ],
   "source": [
    "model_checking(['nodo', 'x', 'y', 'z'], inicializacao, transicao, error, 5, 3, 30, 50, 50)"
   ]
  }
 ],
 "metadata": {
  "kernelspec": {
   "display_name": "Python 3 (ipykernel)",
   "language": "python",
   "name": "python3"
  },
  "language_info": {
   "codemirror_mode": {
    "name": "ipython",
    "version": 3
   },
   "file_extension": ".py",
   "mimetype": "text/x-python",
   "name": "python",
   "nbconvert_exporter": "python",
   "pygments_lexer": "ipython3",
   "version": "3.10.4"
  }
 },
 "nbformat": 4,
 "nbformat_minor": 5
}
