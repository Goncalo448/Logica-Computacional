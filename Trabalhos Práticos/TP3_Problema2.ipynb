{
 "cells": [
  {
   "cell_type": "markdown",
   "id": "bfa15f34",
   "metadata": {},
   "source": [
    "# TP3\n",
    "### Problema 2"
   ]
  },
  {
   "cell_type": "markdown",
   "id": "9b58d7cc",
   "metadata": {},
   "source": [
    "O seguinte sistema dinâmico denota 4 inversores ($\\,A, B, C, D\\,$) que lêm um bit num canal input e escrevem num canal output uma transformação desse bit."
   ]
  },
  {
   "attachments": {
    "tp3_problema2_img.png": {
     "image/png": "[encoded data removed]"
    }
   },
   "cell_type": "markdown",
   "id": "99cb95ad",
   "metadata": {},
   "source": [
    "![tp3_problema2_img.png](attachment:tp3_problema2_img.png)"
   ]
  },
  {
   "cell_type": "markdown",
   "id": "69eee853",
   "metadata": {},
   "source": [
    "i. Cada inversor tem um bit $s$ de estado, inicializado  com um valor aleatório.\n",
    "<br>\n",
    "<br>\n",
    "ii. Cada inversor é regido pelas seguintes transformações:\n",
    "<br>\n",
    "$\\quad \\textbf{invert}(in,out) $\n",
    "<br>\n",
    "$\\quad \\quad x ← \\textbf{read}(in) $\n",
    "<br>\n",
    "$ \\quad \\quad s ← ¬x∥s←s⊕x​ $\n",
    "<br>\n",
    "$ \\quad \\quad \\textbf{write}(out,s) $\n",
    "<br>\n",
    "<br>\n",
    "iii. A escolha neste comando é sempre determinística; isto é, em cada inversor a escolha do comando a executar é sempre a mesma. Porém qual é essa escolha é determinada aleatoriamente na inicializarão do sistema.\n",
    "<br>\n",
    "<br>\n",
    "iv. O estado do sistema é um duplo definido pelos 4 bits $s$, e é inicializado com um vetor aleatório em $\\{0,1\\}^4\\;$.\n",
    "<br>\n",
    "<br>\n",
    "v. O sistema termina em ERRO quando o estado do sistema for $\\,(0,0,0,0)\\,$."
   ]
  },
  {
   "cell_type": "markdown",
   "id": "5b6e18d0",
   "metadata": {},
   "source": [
    "Comecemos por importar as bibliotecas necessárias para a resolução do problema."
   ]
  },
  {
   "cell_type": "code",
   "execution_count": 106,
   "id": "8787898d",
   "metadata": {},
   "outputs": [],
   "source": [
    "from pysmt.shortcuts import *\n",
    "from pysmt.typing import INT\n",
    "\n",
    "import itertools"
   ]
  },
  {
   "cell_type": "markdown",
   "id": "8c664803",
   "metadata": {},
   "source": [
    "### Modelação de Predicados\n",
    "Os estados iniciais são caracterizados pelo seguinte predicado:\n",
    "$$ pc = 0 \\land (s_{A} = 0 \\lor s_{A} = 1) \\land (s_{B} = 0 \\lor s_{B} = 1) \\land (s_{C} = 0 \\lor s_{C} = 1) \\land (s_{D} = 0 \\lor s_{D} = 1) $$\n",
    "<br>\n",
    "<br>\n",
    "As transições possíveis no SFOTS são caracterizadas pelos seguintes predicados:\n",
    "$$ pc = 0 \\land pc' = 0 \\land (s_{A} = 0 \\lor s_{A} = 1) \\land (s_{B} = 0 \\lor s_{B} = 1) \\land (s_{C} = 0 \\lor s_{C} = 1) \\land (s_{D} = 0 \\lor s_{D} = 1) \\land (s'_{A} = s_{A} ⊕ s_{C}) \\land (s'_{B} = s_{B} ⊕ s_{A}) \\land (s'_{D} = s_{D} ⊕ s_{B}) \\land (s'_{C} = s_{C} ⊕ s_{D}) $$\n",
    "$$\\lor$$\n",
    "$$ pc = 0 \\land pc' = 0 \\land (s_{A} = 0 \\lor s_{A} = 1) \\land (s_{B} = 0 \\lor s_{B} = 1) \\land (s_{C} = 0 \\lor s_{C} = 1) \\land (s_{D} = 0 \\lor s_{D} = 1) \\land (s'_{A} = \\neg s_{C}) \\land (s'_{B} = \\neg s_{A}) \\land (s'_{D} = \\neg s_{B}) \\land (s'_{C} = \\neg s_{D}) $$\n",
    "$$ \\lor $$\n",
    "$$ pc = 0 \\land s_{A} = 0 \\land s_{B} = 0 \\land s_{C} = 0 \\land s_{D} = 0 \\land pc' = 1 \\land s'_{A} = s_{A} \\land s'_{B} = s_{B} \\land s'_{C} = s_{C} \\land s'_{D} = s_{D} $$\n",
    "$$ \\lor $$\n",
    "$$ pc = 1 \\land pc' = 1 \\land s'_{A} = s_{A} \\land s'_{B} = s_{B} \\land s'_{C} = s_{C} \\land s'_{D} = s_{D} $$"
   ]
  },
  {
   "cell_type": "markdown",
   "id": "47ba926c",
   "metadata": {},
   "source": [
    "### Implementação\n",
    "De seguida, definimos as funções necessárias para a resolução do problema.\n",
    "<br>\n",
    "<br>\n",
    "A função `declare` cria a i-ésima cópia das variáveis de estado."
   ]
  },
  {
   "cell_type": "code",
   "execution_count": 87,
   "id": "2a19bfee",
   "metadata": {},
   "outputs": [],
   "source": [
    "def declare(variaveis, i, s):\n",
    "    \n",
    "    state = {}\n",
    "    for var in variaveis:\n",
    "        state[var] = Symbol(var+s+str(i), INT)\n",
    "        \n",
    "    return state"
   ]
  },
  {
   "cell_type": "code",
   "execution_count": 33,
   "id": "264dde87",
   "metadata": {},
   "outputs": [],
   "source": [
    "def get_commands():\n",
    "    #0 -> neg\n",
    "    #1 -> xor\n",
    "    dic = {}\n",
    "    dic['A'] = Symbol('func_A', INT)\n",
    "    dic['B'] = Symbol('func_B', INT)\n",
    "    dic['C'] = Symbol('func_C', INT)\n",
    "    dic['D'] = Symbol('func_D', INT)\n",
    "    \n",
    "    return dic"
   ]
  },
  {
   "cell_type": "code",
   "execution_count": 36,
   "id": "6c716c23",
   "metadata": {},
   "outputs": [],
   "source": [
    "def init_commands(commands):\n",
    "    return And(\n",
    "            Or(Equals(commands['A'], Int(0)), Equals(commands['A'], Int(1))),\n",
    "            Or(Equals(commands['B'], Int(0)), Equals(commands['B'], Int(1))),\n",
    "            Or(Equals(commands['C'], Int(0)), Equals(commands['C'], Int(1))),\n",
    "            Or(Equals(commands['D'], Int(0)), Equals(commands['D'], Int(1))))"
   ]
  },
  {
   "cell_type": "markdown",
   "id": "a18db506",
   "metadata": {},
   "source": [
    "A função `init` testa se um determinado estado, passado como parâmetro, é inicial."
   ]
  },
  {
   "cell_type": "code",
   "execution_count": 27,
   "id": "7a15ef1e",
   "metadata": {},
   "outputs": [],
   "source": [
    "def init(state):\n",
    "    A = Or(Equals(state['A'], Int(0)),\n",
    "           Equals(state['A'], Int(1)))\n",
    "    \n",
    "    B = Or(Equals(state['B'], Int(0)),\n",
    "           Equals(state['B'], Int(1)))\n",
    "    \n",
    "    C = Or(Equals(state['C'], Int(0)),\n",
    "           Equals(state['C'], Int(1)))\n",
    "    \n",
    "    D = Or(Equals(state['D'], Int(0)),\n",
    "           Equals(state['D'], Int(1)))\n",
    "    \n",
    "    return And(Equals(state['pc'], Int(0)), A, B, C, D)"
   ]
  },
  {
   "cell_type": "markdown",
   "id": "dc1072e1",
   "metadata": {},
   "source": [
    "A função `xor` realiza a operação bitwise xor."
   ]
  },
  {
   "cell_type": "code",
   "execution_count": 29,
   "id": "03409b15",
   "metadata": {},
   "outputs": [],
   "source": [
    "def xor(x, y, z):\n",
    "    \n",
    "    zero = Or(Equals(Plus(x, y), Int(2)), Equals(Plus(x, y), Int(0)))\n",
    "    one = Equals(Plus(x, y), Int(1))\n",
    "    \n",
    "    \n",
    "    return Ite(zero, Equals(z, Int(0)), Equals(z, Int(1)))"
   ]
  },
  {
   "cell_type": "markdown",
   "id": "ea8cb1da",
   "metadata": {},
   "source": [
    "A função `trans` verifica se é possível transitar de um estado para outro, os quais são passados como parâmetros da função."
   ]
  },
  {
   "cell_type": "code",
   "execution_count": 66,
   "id": "7551cd00",
   "metadata": {},
   "outputs": [],
   "source": [
    "def trans(curr, prox, commands):\n",
    "    \n",
    "    t1 = And(\n",
    "            Equals(curr['pc'], Int(0)),\n",
    "            Equals(curr['A'], Int(0)),\n",
    "            Equals(curr['B'], Int(0)),\n",
    "            Equals(curr['C'], Int(0)),\n",
    "            Equals(curr['D'], Int(0)),\n",
    "            Equals(prox['pc'], Int(1)),\n",
    "            Equals(prox['A'], curr['A']),\n",
    "            Equals(prox['B'], curr['B']),\n",
    "            Equals(prox['C'], curr['C']),\n",
    "            Equals(prox['D'], curr['D']))\n",
    "    \n",
    "    A = Or(Equals(curr['A'], Int(0)),\n",
    "           Equals(curr['A'], Int(1)))\n",
    "    \n",
    "    B = Or(Equals(curr['B'], Int(0)),\n",
    "           Equals(curr['B'], Int(1)))\n",
    "    \n",
    "    C = Or(Equals(curr['C'], Int(0)),\n",
    "           Equals(curr['C'], Int(1)))\n",
    "    \n",
    "    D = Or(Equals(curr['D'], Int(0)),\n",
    "           Equals(curr['D'], Int(1)))\n",
    "    \n",
    "    func_A = Ite(\n",
    "                Equals(commands['A'], Int(1)),\n",
    "                xor(curr['A'], curr['C'], prox['A']),\n",
    "                NotEquals(prox['A'], curr['C']))\n",
    "    \n",
    "    func_B = Ite(\n",
    "                Equals(commands['B'], Int(1)),\n",
    "                xor(curr['B'], curr['A'], prox['B']),\n",
    "                NotEquals(prox['B'], curr['A']))\n",
    "    \n",
    "    func_C = Ite(\n",
    "                Equals(commands['C'], Int(1)),\n",
    "                xor(curr['C'], curr['D'], prox['C']),\n",
    "                NotEquals(prox['C'], curr['D']))\n",
    "    \n",
    "    func_D = Ite(\n",
    "                Equals(commands['D'], Int(1)),\n",
    "                xor(curr['D'], curr['B'], prox['D']),\n",
    "                NotEquals(prox['D'], curr['B']))\n",
    "    \n",
    "    t2 = And(\n",
    "            Equals(curr['pc'], Int(0)),\n",
    "            Equals(prox['pc'], Int(0)),\n",
    "            A, B, C, D,\n",
    "            GT(Plus(curr['A'], curr['B'], curr['C'], curr['D']), Int(0)), #pelo menos um inversor diferente de 0\n",
    "            func_A, func_B, func_C, func_D)\n",
    "    \n",
    "    t3 = And(\n",
    "            Equals(curr['pc'], Int(1)),\n",
    "            Equals(prox['pc'], Int(1)),\n",
    "            Equals(prox['A'], curr['A']),\n",
    "            Equals(prox['B'], curr['B']),\n",
    "            Equals(prox['C'], curr['C']),\n",
    "            Equals(prox['D'], curr['D']))\n",
    "    \n",
    "    return Or(t1, t2, t3)\n",
    "    "
   ]
  },
  {
   "cell_type": "markdown",
   "id": "9bcf8b6f",
   "metadata": {},
   "source": [
    "A função `invert_trans` recebe como argumento a função que codifica a relação de transição, devolvendo a sua inversa, ou seja, a relação de transição inversa."
   ]
  },
  {
   "cell_type": "code",
   "execution_count": 111,
   "id": "d6d0e44c",
   "metadata": {},
   "outputs": [],
   "source": [
    "def invert_trans(trans, curr, prox, commands):\n",
    "    return trans(prox, curr, commands)"
   ]
  },
  {
   "cell_type": "markdown",
   "id": "ed4c42f0",
   "metadata": {},
   "source": [
    "A função `error` testa se um determinado estado do programa é um possível estado de erro."
   ]
  },
  {
   "cell_type": "code",
   "execution_count": 55,
   "id": "72aaeb82",
   "metadata": {},
   "outputs": [],
   "source": [
    "def error(state):\n",
    "    \n",
    "    t = And(Equals(state['pc'], Int(0)),\n",
    "            Equals(state['A'], Int(0)),\n",
    "            Equals(state['B'], Int(0)),\n",
    "            Equals(state['C'], Int(0)),\n",
    "            Equals(state['D'], Int(0)))\n",
    "    \n",
    "    return t"
   ]
  },
  {
   "cell_type": "markdown",
   "id": "3031e727",
   "metadata": {},
   "source": [
    "A função `genTrace` gera um possível traço de execução do programa com $n$ transições."
   ]
  },
  {
   "cell_type": "code",
   "execution_count": 90,
   "id": "3b9bc812",
   "metadata": {},
   "outputs": [],
   "source": [
    "def genTrace(variaveis,init,trans,error,n):\n",
    "    with Solver(name=\"z3\") as s:\n",
    "        commands = get_commands()\n",
    "        \n",
    "        S = [declare(variaveis, i, 'S') for i in range(n+1)]\n",
    "        I = init(S[0])\n",
    "        Tks = [trans(S[i], S[i+1], commands) for i in range(n)]\n",
    "        \n",
    "        if s.solve([init_commands(commands),I,And(Tks)]):\n",
    "            for letter in commands:\n",
    "                print(letter,\"=\",s.get_value(commands[letter]))\n",
    "            \n",
    "            for i in range(n):\n",
    "                print(\"Estado:\",i)\n",
    "                for v in S[i]:\n",
    "                    print(\"          \",v,'=',s.get_value(S[i][v]))"
   ]
  },
  {
   "cell_type": "code",
   "execution_count": 91,
   "id": "7949cf05",
   "metadata": {},
   "outputs": [
    {
     "name": "stdout",
     "output_type": "stream",
     "text": [
      "A = 0\n",
      "B = 0\n",
      "C = 1\n",
      "D = 0\n",
      "Estado: 0\n",
      "           pc = 0\n",
      "           A = 1\n",
      "           B = 0\n",
      "           C = 1\n",
      "           D = 0\n",
      "Estado: 1\n",
      "           pc = 0\n",
      "           A = 0\n",
      "           B = 0\n",
      "           C = 1\n",
      "           D = 1\n",
      "Estado: 2\n",
      "           pc = 0\n",
      "           A = 0\n",
      "           B = 1\n",
      "           C = 0\n",
      "           D = 1\n",
      "Estado: 3\n",
      "           pc = 0\n",
      "           A = 1\n",
      "           B = 1\n",
      "           C = 1\n",
      "           D = 0\n",
      "Estado: 4\n",
      "           pc = 0\n",
      "           A = 0\n",
      "           B = 0\n",
      "           C = 1\n",
      "           D = 0\n",
      "Estado: 5\n",
      "           pc = 0\n",
      "           A = 0\n",
      "           B = 1\n",
      "           C = 1\n",
      "           D = 1\n",
      "Estado: 6\n",
      "           pc = 0\n",
      "           A = 0\n",
      "           B = 1\n",
      "           C = 0\n",
      "           D = 0\n",
      "Estado: 7\n",
      "           pc = 0\n",
      "           A = 1\n",
      "           B = 1\n",
      "           C = 0\n",
      "           D = 0\n",
      "Estado: 8\n",
      "           pc = 0\n",
      "           A = 1\n",
      "           B = 0\n",
      "           C = 0\n",
      "           D = 0\n",
      "Estado: 9\n",
      "           pc = 0\n",
      "           A = 1\n",
      "           B = 0\n",
      "           C = 0\n",
      "           D = 1\n"
     ]
    }
   ],
   "source": [
    "variaveis = ['pc', 'A', 'B', 'C', 'D']\n",
    "genTrace(variaveis, init, trans, error, 10)"
   ]
  },
  {
   "cell_type": "code",
   "execution_count": 92,
   "id": "81e85c9a",
   "metadata": {},
   "outputs": [],
   "source": [
    "def bitvec_not_null(state):\n",
    "    return GT(Plus(state['A'], state['B'], state['C'], state['D']), Int(0))"
   ]
  },
  {
   "cell_type": "code",
   "execution_count": 100,
   "id": "f1e35aca",
   "metadata": {},
   "outputs": [],
   "source": [
    "def bmc(declare, init, trans, inv, K):\n",
    "    for k in range(1, K+1):\n",
    "        with Solver(name = \"z3\") as solver:\n",
    "            commands = get_commands()\n",
    "            \n",
    "            trace = [declare(variaveis, i, 'S') for i in range(k)]\n",
    "            \n",
    "            solver.add_assertion(init(trace[0]))\n",
    "            solver.add_assertion(init_commands(commands))\n",
    "            \n",
    "            for i in range(k-1):\n",
    "                solver.add_assertion(trans(trace[i], trace[i+1], commands))\n",
    "                \n",
    "            solver.add_assertion(Not(And(inv(trace[i]) for i in range(k-1))))\n",
    "            \n",
    "            if solver.solve():\n",
    "                print(\"A propriedade não é um invariante\")\n",
    "                return\n",
    "        \n",
    "    print(f\"O invariante mantém-se nos primeiros {k} passos\")"
   ]
  },
  {
   "cell_type": "code",
   "execution_count": 102,
   "id": "fe4e0054",
   "metadata": {},
   "outputs": [
    {
     "name": "stdout",
     "output_type": "stream",
     "text": [
      "A propriedade não é um invariante\n"
     ]
    }
   ],
   "source": [
    "bmc(declare, init, trans, bitvec_not_null, 10)"
   ]
  },
  {
   "cell_type": "code",
   "execution_count": 105,
   "id": "8d49659e",
   "metadata": {},
   "outputs": [],
   "source": [
    "def same(state1,state2):\n",
    "    return And([Equals(state1[x],state2[x]) for x in state1])\n",
    "\n",
    "\n",
    "def rename(form,state):\n",
    "    vs = get_free_variables(form)\n",
    "    pairs = [ (x,state[baseName(x.symbol_name())]) for x in vs ]\n",
    "    return form.substitute(dict(pairs))\n",
    "\n",
    "\n",
    "def baseName(s):\n",
    "    return ''.join(list(itertools.takewhile(lambda x: x!='!', s)))"
   ]
  },
  {
   "cell_type": "code",
   "execution_count": 115,
   "id": "10776c11",
   "metadata": {},
   "outputs": [
    {
     "name": "stdout",
     "output_type": "stream",
     "text": [
      "unsafe\n"
     ]
    }
   ],
   "source": [
    "def model_checking(variaveis, declare, init, trans, error, N, M):\n",
    "    with Solver(name=\"z3\") as s:\n",
    "        commands = get_commands()\n",
    "        \n",
    "        X = [declare(variaveis,i,'X') for i in range(N+1)]\n",
    "        Y = [declare(variaveis,i,'Y') for i in range(M+1)]\n",
    "        \n",
    "        order = sorted([(a,b) for a in range(1,N+1) for b in range(1,M+1)],key=lambda tup:tup[0]+tup[1]) \n",
    "        \n",
    "        for (n,m) in order:\n",
    "             \n",
    "            # completar\n",
    "            Tn = And([trans(X[i], X[i+1], commands) for i in range(n)])\n",
    "            I = init(X[0])\n",
    "            Rn = And(I, Tn)\n",
    "            \n",
    "            Bm = And(invert_trans(trans, Y[i], Y[i+1], commands) for i in range(m))\n",
    "            E = error(Y[0])\n",
    "            Um = And(E, Bm)\n",
    "            \n",
    "            Vnm = And(Rn, same(X[n], Y[m]), Um)\n",
    "            \n",
    "            if s.solve([Vnm, init_commands(commands)]):\n",
    "                print(\"unsafe\")\n",
    "                return\n",
    "            else:\n",
    "                C = binary_interpolant(And(Rn, same(X[n], Y[m])), Um)\n",
    "                if C is None:\n",
    "                    print(\"interpolant None\")\n",
    "                    break\n",
    "                C0 = rename(C, X[0])\n",
    "                C1 = rename(C, X[1])\n",
    "                T = trans1(X[0], X[1])\n",
    "                if not s.solve([C0,T,Not(C1)]):\n",
    "                    print(\"safe\")\n",
    "                    return\n",
    "                else:\n",
    "                    \n",
    "                    S = rename(C, X[n])\n",
    "                    while True:\n",
    "                        A = And(S, trans1(X[n], Y[m]))\n",
    "                        if s.solve([A, Um]):\n",
    "                            print(\"Não é possível encontrar um majorante\")\n",
    "                            break\n",
    "                        else:\n",
    "                            Cnew = binary_interpolant(A, Um)\n",
    "                            Cn = rename(Cnew, X[n])\n",
    "                            if s.solve([Cn, Not(S)]):\n",
    "                                S = Or(S, Cn)\n",
    "                            else:\n",
    "                                print(\"safe\")\n",
    "                                return\n",
    "                \n",
    "        print(\"unknown\")                   \n",
    "        \n",
    "\n",
    "model_checking(['pc','A', 'B', 'C', 'D'], declare, init, trans, error, 50, 50)     "
   ]
  }
 ],
 "metadata": {
  "kernelspec": {
   "display_name": "Python 3 (ipykernel)",
   "language": "python",
   "name": "python3"
  },
  "language_info": {
   "codemirror_mode": {
    "name": "ipython",
    "version": 3
   },
   "file_extension": ".py",
   "mimetype": "text/x-python",
   "name": "python",
   "nbconvert_exporter": "python",
   "pygments_lexer": "ipython3",
   "version": "3.10.4"
  }
 },
 "nbformat": 4,
 "nbformat_minor": 5
}
