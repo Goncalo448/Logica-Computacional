{
 "cells": [
  {
   "cell_type": "markdown",
   "id": "3bf17c1b",
   "metadata": {},
   "source": [
    "# TP1"
   ]
  },
  {
   "cell_type": "markdown",
   "id": "a6716436",
   "metadata": {},
   "source": [
    "# Problema 1\n",
    "#### Pretende-se construir um horário semanal para o plano de reuniões de projeto de uma “StartUp” de acordo com as seguintes condições:\n",
    " a. Cada reunião ocupa uma sala (enumeradas $1...S,$) durante um “slot”  $1..T,$$ $$(\\text{hora},\\text{dia})$.\n",
    " <br>\n",
    " <br>\n",
    " b. Cada reunião tem associado um projeto (enumerados $1..P$) e um conjunto de participantes. Os diferentes colaboradores são enumerados $1..C$, em que $c = 1$ é o líder do projeto.\n",
    " <br>\n",
    " <br>\n",
    " c. Cada projeto tem associado um conjunto de colaboradores, dos quais um  é o líder. Cada projeto realiza um dado número de reuniões semanais. \n",
    " <br>\n",
    " <br>\n",
    " d. O líder do projeto participa em todas as reuniões do seu projeto; os restantes colaboradores podem ou não participar consoante a sua disponibilidade, num mínimo (“quorum”) de  $50\\%$ do total de colaboradores do projeto."
   ]
  },
  {
   "cell_type": "markdown",
   "id": "c866154b",
   "metadata": {},
   "source": [
    "### Variáveis\n",
    "Serão definidos 2 dicionários que representam as seguintes variáveis:\n",
    "<br>\n",
    "$ a_{c,\\,p,\\,d,\\,h}$: representa a disponibilidade do colaborador $\\textit{c}$ do projeto $\\textit{p}$ no slot $\\textit{(d,h)}$.\n",
    "<br>\n",
    "$ b_{p,\\,s,\\,d,\\,h}$: representa a existência de uma reunião do projeto $\\textit{p}$ na sala $\\textit{s}$ no slot $\\textit{(d,h)}$."
   ]
  },
  {
   "cell_type": "markdown",
   "id": "d10b77a4",
   "metadata": {},
   "source": [
    "Todas as variáveis são binárias, ou seja, apenas podem tomar como valores `0` ou `1`.\n",
    "<br>\n",
    "<br>\n",
    "$\n",
    "0 \\leq a_{c,\\,p,\\,d,\\,h} \\leq 1, \\forall_{c \\leq C,\\,p \\leq P,\\,d \\leq D,\\, h \\leq H}\n",
    "$\n",
    "<br>\n",
    "<br>\n",
    "$\n",
    "0 \\leq b_{s,\\,p,\\,d,\\,h} \\leq 1, \\forall_{s \\leq S,\\, p \\leq P,\\, d \\leq D,\\,h \\leq H}\n",
    "$"
   ]
  },
  {
   "cell_type": "markdown",
   "id": "bbdfcafd",
   "metadata": {},
   "source": [
    "### Implementação\n",
    "Começamos por importar a biblioteca de programação linear do OR-Tools e criar uma instância do solver.\n",
    "<br>\n",
    "Entretanto, inicializamos o *solver* `horario` e declaramos as matrizes de alocação, $\\textit{a}$ e $\\textit{b}$."
   ]
  },
  {
   "cell_type": "code",
   "execution_count": 1,
   "id": "9121f397",
   "metadata": {},
   "outputs": [],
   "source": [
    "from ortools.linear_solver import pywraplp\n",
    "\n",
    "horario = pywraplp.Solver.CreateSolver('SCIP')\n",
    "\n",
    "S = 2\n",
    "T = 30\n",
    "P = 3\n",
    "C = 8\n",
    "D = 5\n",
    "H = 5\n",
    "\n",
    "a = {}\n",
    "for c in range(1, C+1):\n",
    "    a[c] = {}\n",
    "    for p in range(1, P+1):\n",
    "        a[c][p] = {}\n",
    "        for d in range(1, D+1):\n",
    "            a[c][p][d] = {}\n",
    "            for h in range(1, H+1):\n",
    "                a[c][p][d][h] = horario.BoolVar(f'a[{c}][{p}][{d}][{h}]')\n",
    "            \n",
    "            \n",
    "b = {}\n",
    "for p in range(1, P+1):\n",
    "    b[p] = {}\n",
    "    for s in range(1, S+1):\n",
    "        b[p][s] = {}\n",
    "        for d in range(1, D+1):\n",
    "            b[p][s][d] = {}\n",
    "            for h in range(1, H+1):\n",
    "                b[p][s][d][h] = horario.BoolVar(f'b[{p}][{s}][{d}][{h}]')\n",
    "            "
   ]
  },
  {
   "cell_type": "code",
   "execution_count": 2,
   "id": "eb95be2f",
   "metadata": {},
   "outputs": [],
   "source": [
    "projetos = {\n",
    "    1: (1, 8, [1,3,5,8]),\n",
    "    2: (2, 7, [1,2,4,7]),\n",
    "    3: (3, 9, [2,3,5,6,7,8])\n",
    "}\n",
    "\n",
    "colaboradores = {\n",
    "    1: [(1,1),(1,2),(1,3),(1,4),(1,5),(2,1),(2,2),(2,3),(2,4),(2,5),(3,4),(3,5),\n",
    "       (4,1),(4,2),(4,3),(4,4)],\n",
    "    2: [(2,1),(2,2),(2,3),(2,4),(2,5),(3,1),(3,2),(3,3),(3,4),(3,5),\n",
    "       (4,1),(4,2),(4,3),(4,4),(4,5),(5,1),(5,2),(5,3),(5,4),(5,5)],\n",
    "    3: [(1,1),(1,2),(1,3),(1,4),(1,5),(2,1),(2,2),(3,4),(3,5),\n",
    "       (4,1),(4,2),(4,3),(4,4),(4,5),(5,1)],\n",
    "    4: [(1,1),(1,2),(1,3),(1,4),(1,5),(2,1),(2,2),(2,3),(2,4),(2,5),(3,1),(3,2),(3,3),(3,4),(3,5),\n",
    "       (4,1),(4,2),(4,3),(4,4),(4,5),(5,1),(5,2),(5,3),(5,4),(5,5)],\n",
    "    5: [(1,1),(1,2),(1,3),(1,4),(1,5),(2,1),(2,2),(2,3),(2,4),(2,5),(3,1),(3,2),(3,3),(3,4),(3,5),\n",
    "       (4,1),(4,2),(5,3),(5,4),(5,5)],\n",
    "    6: [(1,1),(1,2),(1,3),(2,4),(2,5),(3,1),(3,2),(3,3),(3,4),(3,5),\n",
    "       (4,1),(4,2),(4,3),(4,4),(4,5),(5,1),(5,2),(5,3),(5,4),(5,5)],\n",
    "    7: [(1,1),(1,2),(1,3),(1,4),(1,5),(2,1),(2,2),(2,3),(2,4),(3,5),\n",
    "       (4,1),(4,2),(4,3),(4,4),(4,5),(5,1),(5,2),(5,3),(5,4),(5,5)],\n",
    "    8: [(1,1),(1,2),(2,3),(2,4),(2,5),(3,1),(3,2),(3,3),(3,4),(3,5),\n",
    "       (4,1),(4,2),(4,3),(4,4),(4,5),(5,1),(5,2),(5,3),(5,4),(5,5)]\n",
    "}"
   ]
  },
  {
   "cell_type": "markdown",
   "id": "adf3b987",
   "metadata": {},
   "source": [
    "#### Restrição 1\n",
    "Cada sala, num determinado slot, está disponível apenas para uma reunião de um projeto.\n",
    "<br>\n",
    "<br>\n",
    "$ \\forall_{s \\leq S,\\,d \\leq D,\\,h \\leq H}. \\sum_{p=1}^{P} b_{p,\\,s,\\,d,\\,h} \\leq 1 $"
   ]
  },
  {
   "cell_type": "code",
   "execution_count": 3,
   "id": "f7a89429",
   "metadata": {
    "scrolled": true
   },
   "outputs": [],
   "source": [
    "for s in range(1, S+1):\n",
    "    for d in range(1, D+1):\n",
    "        for h in range(1, H+1):\n",
    "            horario.Add(sum([b[p][s][d][h] for p in range(1, P+1)]) <= 1)"
   ]
  },
  {
   "cell_type": "markdown",
   "id": "182d77ab",
   "metadata": {},
   "source": [
    "#### Restrição 2\n",
    "A reunião de um projeto realiza-se apenas numa das salas.\n",
    "\n",
    "$ \\forall_{p \\leq P,\\, d \\leq D,\\, h \\leq H}. \\sum_{s=1}^{S} b_{p,\\,s,\\,d,\\,h} = 1 $"
   ]
  },
  {
   "cell_type": "code",
   "execution_count": 4,
   "id": "80ce3c97",
   "metadata": {},
   "outputs": [],
   "source": [
    "for p in range(1, P+1):\n",
    "    for d in range(1, D+1):\n",
    "        for h in range(1, H+1):\n",
    "            horario.Add(sum([b[p][s][d][h] for s in range(1, S+1)]) <= 1)"
   ]
  },
  {
   "cell_type": "markdown",
   "id": "871aa4dc",
   "metadata": {},
   "source": [
    "#### Restrição 3\n",
    "Pelo menos $50\\%$ do total de colaboradores do projeto participam na reunião.\n",
    "<br>\n",
    "<br>\n",
    "$ \\forall_{p \\leq P,\\, d \\leq D,\\,h \\leq H}. \\sum_{i = 0}^{len(c)-1} a_{c[i],\\,p,\\,d,\\,h} \\geq \\frac{len(c) - 1}{2} * a_{l,\\,p,\\,d,\\,h},\\, c = projetos_{p,\\,2},\\, l = projetos_{p,0}$"
   ]
  },
  {
   "cell_type": "code",
   "execution_count": 5,
   "id": "c746f51f",
   "metadata": {},
   "outputs": [],
   "source": [
    "for p in range(1, P+1):\n",
    "        for d in range(1, D+1):\n",
    "            for h in range(1, H+1):\n",
    "                c = projetos[p][2]\n",
    "                l = projetos[p][0]\n",
    "                horario.Add(sum([a[c[i]][p][d][h] for i in range(len(c))]) >= (len(c)/2) * a[l][p][d][h])"
   ]
  },
  {
   "cell_type": "markdown",
   "id": "1d46be63",
   "metadata": {},
   "source": [
    "#### Restrição 4\n",
    "O líder do projeto participa em todas as reuniões do seu projeto.\n",
    "\n",
    "$ \\forall_{p \\leq P,\\,d \\leq D,\\,h \\leq H}. \\sum_{s=1}^{S} b_{p,\\,s,\\,d,\\,h} = a_{l,\\,p,\\,d,\\,h},\\, l = projetos_{p,0} $"
   ]
  },
  {
   "cell_type": "code",
   "execution_count": 6,
   "id": "2675177b",
   "metadata": {},
   "outputs": [],
   "source": [
    "for p in range(1, P+1):\n",
    "        for d in range(1, D+1):\n",
    "            for h in range(1, H+1):\n",
    "                c = projetos[p][2]\n",
    "                l = projetos[p][0]\n",
    "                horario.Add(sum([b[p][s][d][h] for s in range(1, S+1)]) == a[l][p][d][h])"
   ]
  },
  {
   "cell_type": "markdown",
   "id": "b58db3ca",
   "metadata": {},
   "source": [
    "#### Restrição 5\n",
    "Cada projeto realiza, no mínimo, um dado número de reuniões semanais.\n",
    "<br>\n",
    "<br>\n",
    "$ \\forall_{p \\leq P}. \\sum_{s=1}^{S} \\sum_{d=1}^{D} \\sum_{h=1}^{H} b_{p,\\,s,\\,d,\\,h} \\geq projetos_{p,\\,1} $"
   ]
  },
  {
   "cell_type": "code",
   "execution_count": 7,
   "id": "18fe06de",
   "metadata": {},
   "outputs": [],
   "source": [
    "for p in range(1, P+1):\n",
    "    horario.Add(sum([b[p][s][d][h] for s in range(1, S+1) for d in range(1, D+1) for h in range(1, H+1)]) >= projetos[p][1])"
   ]
  },
  {
   "cell_type": "markdown",
   "id": "e145f399",
   "metadata": {},
   "source": [
    "#### Restrição 6\n",
    "Cada colaborador tem apenas uma reunião num determinado slot.\n",
    "<br>\n",
    "<br>\n",
    "$ \\forall_{d \\leq D,\\,h \\leq H,\\, c \\leq C} \\sum_{p = 1}^{P} a_{c,\\,p,\\,d,\\,h} \\leq 1 $"
   ]
  },
  {
   "cell_type": "code",
   "execution_count": 8,
   "id": "a8d60545",
   "metadata": {},
   "outputs": [],
   "source": [
    "for d in range(1, D+1):\n",
    "    for h in range(1, H+1):\n",
    "        for c in range(1, C+1):\n",
    "            horario.Add(sum([a[c][p][d][h] for p in range(1, P+1)]) <= 1)"
   ]
  },
  {
   "cell_type": "markdown",
   "id": "dfa6d110",
   "metadata": {},
   "source": [
    "#### Restrição 7\n",
    "Cada colaborador só pode ser alocado aos projetos em que está incluído.\n",
    "\n",
    "$ \\forall_{c \\leq C,\\,p \\leq P,\\,d \\leq D,\\, h \\leq H}. c \\notin projetos_{p,\\,2} \\implies a_{c,\\,p,\\,d,\\,h} = 0 $"
   ]
  },
  {
   "cell_type": "code",
   "execution_count": 9,
   "id": "68029e1f",
   "metadata": {},
   "outputs": [],
   "source": [
    "for c in range(1, C+1):\n",
    "    for p in range(1, P+1):\n",
    "        for d in range(1, D+1):\n",
    "            for h in range(1, H+1):\n",
    "                if c not in projetos[p][2]:\n",
    "                    horario.Add(a[c][p][d][h] == 0)"
   ]
  },
  {
   "cell_type": "markdown",
   "id": "754c5d9a",
   "metadata": {},
   "source": [
    "#### Restrição 8\n",
    "Cada colaborador só pode ser alocado aos slots em que está disponível.\n",
    "\n",
    "$ \\forall_{c \\leq C,\\,p \\leq P,\\,d \\leq D,\\, h \\leq H}. (d,h) \\notin colaboradores_{c} \\implies a_{c,\\,p,\\,d,\\,h} = 0 $"
   ]
  },
  {
   "cell_type": "code",
   "execution_count": 10,
   "id": "55877827",
   "metadata": {},
   "outputs": [
    {
     "ename": "NameError",
     "evalue": "name 'ħ' is not defined",
     "output_type": "error",
     "traceback": [
      "\u001b[0;31m---------------------------------------------------------------------------\u001b[0m",
      "\u001b[0;31mNameError\u001b[0m                                 Traceback (most recent call last)",
      "Input \u001b[0;32mIn [10]\u001b[0m, in \u001b[0;36m<cell line: 1>\u001b[0;34m()\u001b[0m\n\u001b[1;32m      4\u001b[0m \u001b[38;5;28;01mfor\u001b[39;00m h \u001b[38;5;129;01min\u001b[39;00m \u001b[38;5;28mrange\u001b[39m(\u001b[38;5;241m1\u001b[39m, H\u001b[38;5;241m+\u001b[39m\u001b[38;5;241m1\u001b[39m):\n\u001b[1;32m      5\u001b[0m     \u001b[38;5;28;01mif\u001b[39;00m (d,h) \u001b[38;5;129;01mnot\u001b[39;00m \u001b[38;5;129;01min\u001b[39;00m colaboradores[c]:\n\u001b[0;32m----> 6\u001b[0m         horario\u001b[38;5;241m.\u001b[39mAdd(a[c][p][d][\u001b[43mħ\u001b[49m] \u001b[38;5;241m==\u001b[39m \u001b[38;5;241m0\u001b[39m)\n",
      "\u001b[0;31mNameError\u001b[0m: name 'ħ' is not defined"
     ]
    }
   ],
   "source": [
    "for c in range(1, C+1):\n",
    "    for p in range(1, P+1):\n",
    "        for d in range(1, D+1):\n",
    "            for h in range(1, H+1):\n",
    "                if (d,h) not in colaboradores[c]:\n",
    "                    horario.Add(a[c][p][d][ħ] == 0)"
   ]
  },
  {
   "cell_type": "markdown",
   "id": "2822fabd",
   "metadata": {},
   "source": [
    "### Maximizar o número de reúniões realizadas por projeto "
   ]
  },
  {
   "cell_type": "code",
   "execution_count": null,
   "id": "142a7928",
   "metadata": {
    "scrolled": false
   },
   "outputs": [],
   "source": [
    "horario.Maximize(sum([b[p][s][d][h] for s in range(1, S+1) for p in range(1,P+1) for d in range(1, D+1) for h in range(1, H+1)]))"
   ]
  },
  {
   "cell_type": "markdown",
   "id": "5904ac69",
   "metadata": {},
   "source": [
    "### Minimizar o número médio de reuniões semanais por colaborador "
   ]
  },
  {
   "cell_type": "code",
   "execution_count": null,
   "id": "2be315a2",
   "metadata": {},
   "outputs": [],
   "source": [
    "horario.Minimize(sum([a[c][p][d][h] for c in range(1,C+1) for p in range(1,P+1) for d in range(1,D+1) for h in range(1,H+1)]))"
   ]
  },
  {
   "cell_type": "markdown",
   "id": "9c0182f1",
   "metadata": {},
   "source": [
    "### Solução do Problema "
   ]
  },
  {
   "cell_type": "code",
   "execution_count": null,
   "id": "5ce366b3",
   "metadata": {},
   "outputs": [],
   "source": [
    "status = horario.Solve()\n",
    "\n",
    "if status == pywraplp.Solver.OPTIMAL:\n",
    "    for d in range(1, D+1):\n",
    "        print(\"---- Dia\" + str(d) + \"----\\n\")\n",
    "        for h in range(1, H+1):\n",
    "            for s in range(1, S+1):\n",
    "                for p in range(1, P+1):\n",
    "                    if int(b[p][s][d][h].solution_value()) == 1:\n",
    "                        print(\"Hora: \", h)\n",
    "                        print(\"Sala: \", s)\n",
    "                        print(\"Projeto: \", p)\n",
    "                        print(\"Líder: \", projetos[p][0])\n",
    "                        temp = projetos[p][2]\n",
    "                        for c in temp:\n",
    "                            if int(a[c][p][d][h].solution_value()) == 1:\n",
    "                                print(\"Colaborador: \", c)\n",
    "else:\n",
    "    print(\"Não existe solução\")\n",
    "                        "
   ]
  }
 ],
 "metadata": {
  "kernelspec": {
   "display_name": "Python 3 (ipykernel)",
   "language": "python",
   "name": "python3"
  },
  "language_info": {
   "codemirror_mode": {
    "name": "ipython",
    "version": 3
   },
   "file_extension": ".py",
   "mimetype": "text/x-python",
   "name": "python",
   "nbconvert_exporter": "python",
   "pygments_lexer": "ipython3",
   "version": "3.10.4"
  }
 },
 "nbformat": 4,
 "nbformat_minor": 5
}
